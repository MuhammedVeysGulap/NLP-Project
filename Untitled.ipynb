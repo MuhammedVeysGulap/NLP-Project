{
 "cells": [
  {
   "cell_type": "markdown",
   "id": "0d81b92a-b11f-49f7-b690-1427b67c6412",
   "metadata": {},
   "source": [
    "# Doğal Dil İşleme İle Duygu Durum Analizi"
   ]
  },
  {
   "cell_type": "markdown",
   "id": "ef5ae6a9-0404-4f80-af05-54e8096bd444",
   "metadata": {},
   "source": [
    "## Kütüphanelerin İçeri Aktarılması"
   ]
  },
  {
   "cell_type": "code",
   "execution_count": 1,
   "id": "86bd89b6-b65a-4998-bba1-1ef5650fb9ce",
   "metadata": {
    "tags": []
   },
   "outputs": [],
   "source": [
    "import numpy as np\n",
    "import pandas as pd\n",
    "import seaborn as sns\n",
    "import matplotlib.pyplot as plt\n",
    "import warnings\n",
    "warnings.filterwarnings('ignore')"
   ]
  },
  {
   "cell_type": "code",
   "execution_count": 2,
   "id": "a1495e9b-b1df-49d1-ba3d-626cf0b0ca16",
   "metadata": {
    "tags": []
   },
   "outputs": [],
   "source": [
    "data = pd.read_csv(\"dataset.csv\",encoding=\"utf-16\")"
   ]
  },
  {
   "cell_type": "markdown",
   "id": "566b503f-cef4-42cb-8bb6-ef364b905d62",
   "metadata": {},
   "source": [
    "## Veri Setinin Analizi"
   ]
  },
  {
   "cell_type": "code",
   "execution_count": 3,
   "id": "a56f87cf-e7ba-4b47-b012-074cf6b83539",
   "metadata": {
    "tags": []
   },
   "outputs": [
    {
     "data": {
      "text/html": [
       "<div>\n",
       "<style scoped>\n",
       "    .dataframe tbody tr th:only-of-type {\n",
       "        vertical-align: middle;\n",
       "    }\n",
       "\n",
       "    .dataframe tbody tr th {\n",
       "        vertical-align: top;\n",
       "    }\n",
       "\n",
       "    .dataframe thead th {\n",
       "        text-align: right;\n",
       "    }\n",
       "</style>\n",
       "<table border=\"1\" class=\"dataframe\">\n",
       "  <thead>\n",
       "    <tr style=\"text-align: right;\">\n",
       "      <th></th>\n",
       "      <th>Görüş</th>\n",
       "      <th>Durum</th>\n",
       "    </tr>\n",
       "  </thead>\n",
       "  <tbody>\n",
       "    <tr>\n",
       "      <th>0</th>\n",
       "      <td>ses kalitesi ve ergonomisi rezalet, sony olduğ...</td>\n",
       "      <td>Olumsuz</td>\n",
       "    </tr>\n",
       "    <tr>\n",
       "      <th>1</th>\n",
       "      <td>hizli teslimat tesekkürler</td>\n",
       "      <td>Tarafsız</td>\n",
       "    </tr>\n",
       "    <tr>\n",
       "      <th>2</th>\n",
       "      <td>ses olayı süper....gece çalıştır sıkıntı yok.....</td>\n",
       "      <td>Olumlu</td>\n",
       "    </tr>\n",
       "    <tr>\n",
       "      <th>3</th>\n",
       "      <td>geldi bigün kullandık hemen bozoldu hiçtavsiye...</td>\n",
       "      <td>Olumsuz</td>\n",
       "    </tr>\n",
       "    <tr>\n",
       "      <th>4</th>\n",
       "      <td>Kulaklığın sesi kaliteli falan değil. Aleti öv...</td>\n",
       "      <td>Olumsuz</td>\n",
       "    </tr>\n",
       "  </tbody>\n",
       "</table>\n",
       "</div>"
      ],
      "text/plain": [
       "                                               Görüş     Durum\n",
       "0  ses kalitesi ve ergonomisi rezalet, sony olduğ...   Olumsuz\n",
       "1                         hizli teslimat tesekkürler  Tarafsız\n",
       "2  ses olayı süper....gece çalıştır sıkıntı yok.....    Olumlu\n",
       "3  geldi bigün kullandık hemen bozoldu hiçtavsiye...   Olumsuz\n",
       "4  Kulaklığın sesi kaliteli falan değil. Aleti öv...   Olumsuz"
      ]
     },
     "execution_count": 3,
     "metadata": {},
     "output_type": "execute_result"
    }
   ],
   "source": [
    "data.head()"
   ]
  },
  {
   "cell_type": "code",
   "execution_count": 4,
   "id": "182ae3d8-db5d-4175-be47-656cfdba6621",
   "metadata": {
    "tags": []
   },
   "outputs": [
    {
     "data": {
      "text/html": [
       "<div>\n",
       "<style scoped>\n",
       "    .dataframe tbody tr th:only-of-type {\n",
       "        vertical-align: middle;\n",
       "    }\n",
       "\n",
       "    .dataframe tbody tr th {\n",
       "        vertical-align: top;\n",
       "    }\n",
       "\n",
       "    .dataframe thead th {\n",
       "        text-align: right;\n",
       "    }\n",
       "</style>\n",
       "<table border=\"1\" class=\"dataframe\">\n",
       "  <thead>\n",
       "    <tr style=\"text-align: right;\">\n",
       "      <th></th>\n",
       "      <th>Görüş</th>\n",
       "      <th>Durum</th>\n",
       "    </tr>\n",
       "  </thead>\n",
       "  <tbody>\n",
       "    <tr>\n",
       "      <th>11424</th>\n",
       "      <td>biraz fazla ısınıyor ama sorumsuz çalışıyor</td>\n",
       "      <td>Tarafsız</td>\n",
       "    </tr>\n",
       "    <tr>\n",
       "      <th>11425</th>\n",
       "      <td>orijinal ürün fakat ambalaj bize ulaşana kadar...</td>\n",
       "      <td>Tarafsız</td>\n",
       "    </tr>\n",
       "    <tr>\n",
       "      <th>11426</th>\n",
       "      <td>bu cihazı 1 yıldır kullanıyorum cihazı çok beğ...</td>\n",
       "      <td>Olumsuz</td>\n",
       "    </tr>\n",
       "    <tr>\n",
       "      <th>11427</th>\n",
       "      <td>Bir sene olmadı ayar düğmesine basıyorum ekran...</td>\n",
       "      <td>Tarafsız</td>\n",
       "    </tr>\n",
       "    <tr>\n",
       "      <th>11428</th>\n",
       "      <td>Urun kaliteli zamaninda tedlimat ve kullanisli...</td>\n",
       "      <td>Olumlu</td>\n",
       "    </tr>\n",
       "  </tbody>\n",
       "</table>\n",
       "</div>"
      ],
      "text/plain": [
       "                                                   Görüş     Durum\n",
       "11424        biraz fazla ısınıyor ama sorumsuz çalışıyor  Tarafsız\n",
       "11425  orijinal ürün fakat ambalaj bize ulaşana kadar...  Tarafsız\n",
       "11426  bu cihazı 1 yıldır kullanıyorum cihazı çok beğ...   Olumsuz\n",
       "11427  Bir sene olmadı ayar düğmesine basıyorum ekran...  Tarafsız\n",
       "11428  Urun kaliteli zamaninda tedlimat ve kullanisli...    Olumlu"
      ]
     },
     "execution_count": 4,
     "metadata": {},
     "output_type": "execute_result"
    }
   ],
   "source": [
    "data.tail()"
   ]
  },
  {
   "cell_type": "code",
   "execution_count": 5,
   "id": "322a833a-393c-4beb-b774-741889744ed3",
   "metadata": {
    "tags": []
   },
   "outputs": [
    {
     "name": "stdout",
     "output_type": "stream",
     "text": [
      "<class 'pandas.core.frame.DataFrame'>\n",
      "RangeIndex: 11429 entries, 0 to 11428\n",
      "Data columns (total 2 columns):\n",
      " #   Column  Non-Null Count  Dtype \n",
      "---  ------  --------------  ----- \n",
      " 0   Görüş   11426 non-null  object\n",
      " 1   Durum   11429 non-null  object\n",
      "dtypes: object(2)\n",
      "memory usage: 178.7+ KB\n"
     ]
    }
   ],
   "source": [
    "data.info()"
   ]
  },
  {
   "cell_type": "code",
   "execution_count": 6,
   "id": "3a2fd433-feea-4df4-8e56-5379ff8dd6cc",
   "metadata": {
    "tags": []
   },
   "outputs": [
    {
     "data": {
      "text/plain": [
       "(11429, 2)"
      ]
     },
     "execution_count": 6,
     "metadata": {},
     "output_type": "execute_result"
    }
   ],
   "source": [
    "data.shape"
   ]
  },
  {
   "cell_type": "code",
   "execution_count": 7,
   "id": "2990df56-d9df-453c-93e0-8305545dba62",
   "metadata": {
    "tags": []
   },
   "outputs": [
    {
     "data": {
      "text/plain": [
       "Görüş    object\n",
       "Durum    object\n",
       "dtype: object"
      ]
     },
     "execution_count": 7,
     "metadata": {},
     "output_type": "execute_result"
    }
   ],
   "source": [
    "data.dtypes"
   ]
  },
  {
   "cell_type": "code",
   "execution_count": 8,
   "id": "fa7874b7-d256-4be1-922a-7b4b60fd9fae",
   "metadata": {
    "tags": []
   },
   "outputs": [
    {
     "data": {
      "text/plain": [
       "Görüş    3\n",
       "Durum    0\n",
       "dtype: int64"
      ]
     },
     "execution_count": 8,
     "metadata": {},
     "output_type": "execute_result"
    }
   ],
   "source": [
    "data.isnull().sum()"
   ]
  },
  {
   "cell_type": "code",
   "execution_count": 9,
   "id": "9d0611be-f3f8-4761-84c5-249e864ab1c6",
   "metadata": {
    "tags": []
   },
   "outputs": [
    {
     "data": {
      "text/plain": [
       "Görüş    11407\n",
       "Durum        3\n",
       "dtype: int64"
      ]
     },
     "execution_count": 9,
     "metadata": {},
     "output_type": "execute_result"
    }
   ],
   "source": [
    "data.nunique()"
   ]
  },
  {
   "cell_type": "code",
   "execution_count": 10,
   "id": "da96df09-f0b8-48d3-a33a-219ea14f4003",
   "metadata": {
    "tags": []
   },
   "outputs": [
    {
     "data": {
      "text/plain": [
       "Durum\n",
       "Olumlu      4253\n",
       "Olumsuz     4238\n",
       "Tarafsız    2938\n",
       "Name: count, dtype: int64"
      ]
     },
     "execution_count": 10,
     "metadata": {},
     "output_type": "execute_result"
    }
   ],
   "source": [
    "data[\"Durum\"].value_counts()"
   ]
  },
  {
   "cell_type": "code",
   "execution_count": 11,
   "id": "9314c246-5256-4e12-a5b0-ee068b73e88f",
   "metadata": {
    "tags": []
   },
   "outputs": [],
   "source": [
    "  df = data.copy()"
   ]
  },
  {
   "cell_type": "code",
   "execution_count": 12,
   "id": "fe83a3a4-cfb9-406c-a527-0649f0183775",
   "metadata": {
    "tags": []
   },
   "outputs": [
    {
     "data": {
      "text/html": [
       "<div>\n",
       "<style scoped>\n",
       "    .dataframe tbody tr th:only-of-type {\n",
       "        vertical-align: middle;\n",
       "    }\n",
       "\n",
       "    .dataframe tbody tr th {\n",
       "        vertical-align: top;\n",
       "    }\n",
       "\n",
       "    .dataframe thead th {\n",
       "        text-align: right;\n",
       "    }\n",
       "</style>\n",
       "<table border=\"1\" class=\"dataframe\">\n",
       "  <thead>\n",
       "    <tr style=\"text-align: right;\">\n",
       "      <th></th>\n",
       "      <th>Görüş</th>\n",
       "      <th>Durum</th>\n",
       "    </tr>\n",
       "  </thead>\n",
       "  <tbody>\n",
       "    <tr>\n",
       "      <th>0</th>\n",
       "      <td>ses kalitesi ve ergonomisi rezalet, sony olduğ...</td>\n",
       "      <td>Olumsuz</td>\n",
       "    </tr>\n",
       "    <tr>\n",
       "      <th>1</th>\n",
       "      <td>hizli teslimat tesekkürler</td>\n",
       "      <td>Tarafsız</td>\n",
       "    </tr>\n",
       "    <tr>\n",
       "      <th>2</th>\n",
       "      <td>ses olayı süper....gece çalıştır sıkıntı yok.....</td>\n",
       "      <td>Olumlu</td>\n",
       "    </tr>\n",
       "    <tr>\n",
       "      <th>3</th>\n",
       "      <td>geldi bigün kullandık hemen bozoldu hiçtavsiye...</td>\n",
       "      <td>Olumsuz</td>\n",
       "    </tr>\n",
       "    <tr>\n",
       "      <th>4</th>\n",
       "      <td>Kulaklığın sesi kaliteli falan değil. Aleti öv...</td>\n",
       "      <td>Olumsuz</td>\n",
       "    </tr>\n",
       "    <tr>\n",
       "      <th>...</th>\n",
       "      <td>...</td>\n",
       "      <td>...</td>\n",
       "    </tr>\n",
       "    <tr>\n",
       "      <th>11424</th>\n",
       "      <td>biraz fazla ısınıyor ama sorumsuz çalışıyor</td>\n",
       "      <td>Tarafsız</td>\n",
       "    </tr>\n",
       "    <tr>\n",
       "      <th>11425</th>\n",
       "      <td>orijinal ürün fakat ambalaj bize ulaşana kadar...</td>\n",
       "      <td>Tarafsız</td>\n",
       "    </tr>\n",
       "    <tr>\n",
       "      <th>11426</th>\n",
       "      <td>bu cihazı 1 yıldır kullanıyorum cihazı çok beğ...</td>\n",
       "      <td>Olumsuz</td>\n",
       "    </tr>\n",
       "    <tr>\n",
       "      <th>11427</th>\n",
       "      <td>Bir sene olmadı ayar düğmesine basıyorum ekran...</td>\n",
       "      <td>Tarafsız</td>\n",
       "    </tr>\n",
       "    <tr>\n",
       "      <th>11428</th>\n",
       "      <td>Urun kaliteli zamaninda tedlimat ve kullanisli...</td>\n",
       "      <td>Olumlu</td>\n",
       "    </tr>\n",
       "  </tbody>\n",
       "</table>\n",
       "<p>11429 rows × 2 columns</p>\n",
       "</div>"
      ],
      "text/plain": [
       "                                                   Görüş     Durum\n",
       "0      ses kalitesi ve ergonomisi rezalet, sony olduğ...   Olumsuz\n",
       "1                             hizli teslimat tesekkürler  Tarafsız\n",
       "2      ses olayı süper....gece çalıştır sıkıntı yok.....    Olumlu\n",
       "3      geldi bigün kullandık hemen bozoldu hiçtavsiye...   Olumsuz\n",
       "4      Kulaklığın sesi kaliteli falan değil. Aleti öv...   Olumsuz\n",
       "...                                                  ...       ...\n",
       "11424        biraz fazla ısınıyor ama sorumsuz çalışıyor  Tarafsız\n",
       "11425  orijinal ürün fakat ambalaj bize ulaşana kadar...  Tarafsız\n",
       "11426  bu cihazı 1 yıldır kullanıyorum cihazı çok beğ...   Olumsuz\n",
       "11427  Bir sene olmadı ayar düğmesine basıyorum ekran...  Tarafsız\n",
       "11428  Urun kaliteli zamaninda tedlimat ve kullanisli...    Olumlu\n",
       "\n",
       "[11429 rows x 2 columns]"
      ]
     },
     "execution_count": 12,
     "metadata": {},
     "output_type": "execute_result"
    }
   ],
   "source": [
    "df"
   ]
  },
  {
   "cell_type": "code",
   "execution_count": 13,
   "id": "a24b919d-210d-4c26-8045-274bed3cbc50",
   "metadata": {
    "tags": []
   },
   "outputs": [
    {
     "data": {
      "text/html": [
       "<div>\n",
       "<style scoped>\n",
       "    .dataframe tbody tr th:only-of-type {\n",
       "        vertical-align: middle;\n",
       "    }\n",
       "\n",
       "    .dataframe tbody tr th {\n",
       "        vertical-align: top;\n",
       "    }\n",
       "\n",
       "    .dataframe thead th {\n",
       "        text-align: right;\n",
       "    }\n",
       "</style>\n",
       "<table border=\"1\" class=\"dataframe\">\n",
       "  <thead>\n",
       "    <tr style=\"text-align: right;\">\n",
       "      <th></th>\n",
       "      <th>Görüş</th>\n",
       "      <th>Durum</th>\n",
       "    </tr>\n",
       "  </thead>\n",
       "  <tbody>\n",
       "    <tr>\n",
       "      <th>0</th>\n",
       "      <td>False</td>\n",
       "      <td>False</td>\n",
       "    </tr>\n",
       "    <tr>\n",
       "      <th>1</th>\n",
       "      <td>False</td>\n",
       "      <td>False</td>\n",
       "    </tr>\n",
       "    <tr>\n",
       "      <th>2</th>\n",
       "      <td>False</td>\n",
       "      <td>False</td>\n",
       "    </tr>\n",
       "    <tr>\n",
       "      <th>3</th>\n",
       "      <td>False</td>\n",
       "      <td>False</td>\n",
       "    </tr>\n",
       "    <tr>\n",
       "      <th>4</th>\n",
       "      <td>False</td>\n",
       "      <td>False</td>\n",
       "    </tr>\n",
       "    <tr>\n",
       "      <th>...</th>\n",
       "      <td>...</td>\n",
       "      <td>...</td>\n",
       "    </tr>\n",
       "    <tr>\n",
       "      <th>11424</th>\n",
       "      <td>False</td>\n",
       "      <td>False</td>\n",
       "    </tr>\n",
       "    <tr>\n",
       "      <th>11425</th>\n",
       "      <td>False</td>\n",
       "      <td>False</td>\n",
       "    </tr>\n",
       "    <tr>\n",
       "      <th>11426</th>\n",
       "      <td>False</td>\n",
       "      <td>False</td>\n",
       "    </tr>\n",
       "    <tr>\n",
       "      <th>11427</th>\n",
       "      <td>False</td>\n",
       "      <td>False</td>\n",
       "    </tr>\n",
       "    <tr>\n",
       "      <th>11428</th>\n",
       "      <td>False</td>\n",
       "      <td>False</td>\n",
       "    </tr>\n",
       "  </tbody>\n",
       "</table>\n",
       "<p>11429 rows × 2 columns</p>\n",
       "</div>"
      ],
      "text/plain": [
       "       Görüş  Durum\n",
       "0      False  False\n",
       "1      False  False\n",
       "2      False  False\n",
       "3      False  False\n",
       "4      False  False\n",
       "...      ...    ...\n",
       "11424  False  False\n",
       "11425  False  False\n",
       "11426  False  False\n",
       "11427  False  False\n",
       "11428  False  False\n",
       "\n",
       "[11429 rows x 2 columns]"
      ]
     },
     "execution_count": 13,
     "metadata": {},
     "output_type": "execute_result"
    }
   ],
   "source": [
    "df.isnull()"
   ]
  },
  {
   "cell_type": "code",
   "execution_count": 14,
   "id": "24ddf67d-8a87-4eff-a2a6-8306e91a1068",
   "metadata": {
    "tags": []
   },
   "outputs": [],
   "source": [
    "df=df.dropna()"
   ]
  },
  {
   "cell_type": "code",
   "execution_count": 15,
   "id": "343da090-aaac-4533-8cd3-2946f253678c",
   "metadata": {
    "tags": []
   },
   "outputs": [
    {
     "data": {
      "text/html": [
       "<div>\n",
       "<style scoped>\n",
       "    .dataframe tbody tr th:only-of-type {\n",
       "        vertical-align: middle;\n",
       "    }\n",
       "\n",
       "    .dataframe tbody tr th {\n",
       "        vertical-align: top;\n",
       "    }\n",
       "\n",
       "    .dataframe thead th {\n",
       "        text-align: right;\n",
       "    }\n",
       "</style>\n",
       "<table border=\"1\" class=\"dataframe\">\n",
       "  <thead>\n",
       "    <tr style=\"text-align: right;\">\n",
       "      <th></th>\n",
       "      <th>Görüş</th>\n",
       "      <th>Durum</th>\n",
       "    </tr>\n",
       "  </thead>\n",
       "  <tbody>\n",
       "    <tr>\n",
       "      <th>0</th>\n",
       "      <td>ses kalitesi ve ergonomisi rezalet, sony olduğ...</td>\n",
       "      <td>Olumsuz</td>\n",
       "    </tr>\n",
       "    <tr>\n",
       "      <th>1</th>\n",
       "      <td>hizli teslimat tesekkürler</td>\n",
       "      <td>Tarafsız</td>\n",
       "    </tr>\n",
       "    <tr>\n",
       "      <th>2</th>\n",
       "      <td>ses olayı süper....gece çalıştır sıkıntı yok.....</td>\n",
       "      <td>Olumlu</td>\n",
       "    </tr>\n",
       "    <tr>\n",
       "      <th>3</th>\n",
       "      <td>geldi bigün kullandık hemen bozoldu hiçtavsiye...</td>\n",
       "      <td>Olumsuz</td>\n",
       "    </tr>\n",
       "    <tr>\n",
       "      <th>4</th>\n",
       "      <td>Kulaklığın sesi kaliteli falan değil. Aleti öv...</td>\n",
       "      <td>Olumsuz</td>\n",
       "    </tr>\n",
       "    <tr>\n",
       "      <th>...</th>\n",
       "      <td>...</td>\n",
       "      <td>...</td>\n",
       "    </tr>\n",
       "    <tr>\n",
       "      <th>11424</th>\n",
       "      <td>biraz fazla ısınıyor ama sorumsuz çalışıyor</td>\n",
       "      <td>Tarafsız</td>\n",
       "    </tr>\n",
       "    <tr>\n",
       "      <th>11425</th>\n",
       "      <td>orijinal ürün fakat ambalaj bize ulaşana kadar...</td>\n",
       "      <td>Tarafsız</td>\n",
       "    </tr>\n",
       "    <tr>\n",
       "      <th>11426</th>\n",
       "      <td>bu cihazı 1 yıldır kullanıyorum cihazı çok beğ...</td>\n",
       "      <td>Olumsuz</td>\n",
       "    </tr>\n",
       "    <tr>\n",
       "      <th>11427</th>\n",
       "      <td>Bir sene olmadı ayar düğmesine basıyorum ekran...</td>\n",
       "      <td>Tarafsız</td>\n",
       "    </tr>\n",
       "    <tr>\n",
       "      <th>11428</th>\n",
       "      <td>Urun kaliteli zamaninda tedlimat ve kullanisli...</td>\n",
       "      <td>Olumlu</td>\n",
       "    </tr>\n",
       "  </tbody>\n",
       "</table>\n",
       "<p>11426 rows × 2 columns</p>\n",
       "</div>"
      ],
      "text/plain": [
       "                                                   Görüş     Durum\n",
       "0      ses kalitesi ve ergonomisi rezalet, sony olduğ...   Olumsuz\n",
       "1                             hizli teslimat tesekkürler  Tarafsız\n",
       "2      ses olayı süper....gece çalıştır sıkıntı yok.....    Olumlu\n",
       "3      geldi bigün kullandık hemen bozoldu hiçtavsiye...   Olumsuz\n",
       "4      Kulaklığın sesi kaliteli falan değil. Aleti öv...   Olumsuz\n",
       "...                                                  ...       ...\n",
       "11424        biraz fazla ısınıyor ama sorumsuz çalışıyor  Tarafsız\n",
       "11425  orijinal ürün fakat ambalaj bize ulaşana kadar...  Tarafsız\n",
       "11426  bu cihazı 1 yıldır kullanıyorum cihazı çok beğ...   Olumsuz\n",
       "11427  Bir sene olmadı ayar düğmesine basıyorum ekran...  Tarafsız\n",
       "11428  Urun kaliteli zamaninda tedlimat ve kullanisli...    Olumlu\n",
       "\n",
       "[11426 rows x 2 columns]"
      ]
     },
     "execution_count": 15,
     "metadata": {},
     "output_type": "execute_result"
    }
   ],
   "source": [
    "df"
   ]
  },
  {
   "cell_type": "code",
   "execution_count": 16,
   "id": "b5d856a1-492f-44e8-a8ad-6ac6839b4378",
   "metadata": {
    "tags": []
   },
   "outputs": [
    {
     "data": {
      "image/png": "[encoded data removed]",
      "text/plain": [
       "<Figure size 640x480 with 1 Axes>"
      ]
     },
     "metadata": {},
     "output_type": "display_data"
    }
   ],
   "source": [
    "sns.countplot(x=\"Durum\", data = df)\n",
    "plt.title(\"Yorumların Dağılımı\")\n",
    "plt.ylabel(\"Yorum Sayısı\")\n",
    "plt.show()"
   ]
  },
  {
   "cell_type": "markdown",
   "id": "0dac0629-4007-42d4-b5cb-2e7c42976416",
   "metadata": {
    "tags": []
   },
   "source": [
    "## Veri Setinde Durum Sütununun Manipulasyonu"
   ]
  },
  {
   "cell_type": "code",
   "execution_count": 17,
   "id": "c7c3690e-aa76-4d09-9cec-82fc1d94fdcd",
   "metadata": {},
   "outputs": [],
   "source": [
    "df = df.rename(columns={'Görüş': 'gorus', 'Durum': 'durum'})"
   ]
  },
  {
   "cell_type": "code",
   "execution_count": 18,
   "id": "84a73858-82ea-40bc-a0bf-497d90ab1cb8",
   "metadata": {
    "tags": []
   },
   "outputs": [],
   "source": [
    "durum_replace ={\"Olumlu\": 0, \"Olumsuz\": 1, \"Tarafsız\": 2}\n",
    "df[\"durum\"] = df[\"durum\"].replace(durum_replace)"
   ]
  },
  {
   "cell_type": "code",
   "execution_count": 19,
   "id": "e9d13e1b-c343-48c9-8f8c-b238462d5eba",
   "metadata": {
    "tags": []
   },
   "outputs": [
    {
     "data": {
      "text/html": [
       "<div>\n",
       "<style scoped>\n",
       "    .dataframe tbody tr th:only-of-type {\n",
       "        vertical-align: middle;\n",
       "    }\n",
       "\n",
       "    .dataframe tbody tr th {\n",
       "        vertical-align: top;\n",
       "    }\n",
       "\n",
       "    .dataframe thead th {\n",
       "        text-align: right;\n",
       "    }\n",
       "</style>\n",
       "<table border=\"1\" class=\"dataframe\">\n",
       "  <thead>\n",
       "    <tr style=\"text-align: right;\">\n",
       "      <th></th>\n",
       "      <th>gorus</th>\n",
       "      <th>durum</th>\n",
       "    </tr>\n",
       "  </thead>\n",
       "  <tbody>\n",
       "    <tr>\n",
       "      <th>11424</th>\n",
       "      <td>biraz fazla ısınıyor ama sorumsuz çalışıyor</td>\n",
       "      <td>2</td>\n",
       "    </tr>\n",
       "    <tr>\n",
       "      <th>11425</th>\n",
       "      <td>orijinal ürün fakat ambalaj bize ulaşana kadar...</td>\n",
       "      <td>2</td>\n",
       "    </tr>\n",
       "    <tr>\n",
       "      <th>11426</th>\n",
       "      <td>bu cihazı 1 yıldır kullanıyorum cihazı çok beğ...</td>\n",
       "      <td>1</td>\n",
       "    </tr>\n",
       "    <tr>\n",
       "      <th>11427</th>\n",
       "      <td>Bir sene olmadı ayar düğmesine basıyorum ekran...</td>\n",
       "      <td>2</td>\n",
       "    </tr>\n",
       "    <tr>\n",
       "      <th>11428</th>\n",
       "      <td>Urun kaliteli zamaninda tedlimat ve kullanisli...</td>\n",
       "      <td>0</td>\n",
       "    </tr>\n",
       "  </tbody>\n",
       "</table>\n",
       "</div>"
      ],
      "text/plain": [
       "                                                   gorus  durum\n",
       "11424        biraz fazla ısınıyor ama sorumsuz çalışıyor      2\n",
       "11425  orijinal ürün fakat ambalaj bize ulaşana kadar...      2\n",
       "11426  bu cihazı 1 yıldır kullanıyorum cihazı çok beğ...      1\n",
       "11427  Bir sene olmadı ayar düğmesine basıyorum ekran...      2\n",
       "11428  Urun kaliteli zamaninda tedlimat ve kullanisli...      0"
      ]
     },
     "execution_count": 19,
     "metadata": {},
     "output_type": "execute_result"
    }
   ],
   "source": [
    "df.tail()"
   ]
  },
  {
   "cell_type": "code",
   "execution_count": 20,
   "id": "dbcfb435-722a-478b-8f5d-4586d693e0b9",
   "metadata": {
    "tags": []
   },
   "outputs": [
    {
     "data": {
      "text/html": [
       "<div>\n",
       "<style scoped>\n",
       "    .dataframe tbody tr th:only-of-type {\n",
       "        vertical-align: middle;\n",
       "    }\n",
       "\n",
       "    .dataframe tbody tr th {\n",
       "        vertical-align: top;\n",
       "    }\n",
       "\n",
       "    .dataframe thead th {\n",
       "        text-align: right;\n",
       "    }\n",
       "</style>\n",
       "<table border=\"1\" class=\"dataframe\">\n",
       "  <thead>\n",
       "    <tr style=\"text-align: right;\">\n",
       "      <th></th>\n",
       "      <th>gorus</th>\n",
       "      <th>durum</th>\n",
       "    </tr>\n",
       "  </thead>\n",
       "  <tbody>\n",
       "    <tr>\n",
       "      <th>2</th>\n",
       "      <td>ses olayı süper....gece çalıştır sıkıntı yok.....</td>\n",
       "      <td>0</td>\n",
       "    </tr>\n",
       "    <tr>\n",
       "      <th>6</th>\n",
       "      <td>kullanisli baya</td>\n",
       "      <td>0</td>\n",
       "    </tr>\n",
       "    <tr>\n",
       "      <th>16</th>\n",
       "      <td>Mukemmel bir ürün kesinlikle alın</td>\n",
       "      <td>0</td>\n",
       "    </tr>\n",
       "    <tr>\n",
       "      <th>22</th>\n",
       "      <td>Arkadaşlar ürün çok güzel ve de sessiz çalışıy...</td>\n",
       "      <td>0</td>\n",
       "    </tr>\n",
       "    <tr>\n",
       "      <th>23</th>\n",
       "      <td>İndirimdeyken almıştık gayet kullanışlı güçlü ...</td>\n",
       "      <td>0</td>\n",
       "    </tr>\n",
       "    <tr>\n",
       "      <th>...</th>\n",
       "      <td>...</td>\n",
       "      <td>...</td>\n",
       "    </tr>\n",
       "    <tr>\n",
       "      <th>11416</th>\n",
       "      <td>daha önce kullandığım bir ürün. arkadaşıma hed...</td>\n",
       "      <td>0</td>\n",
       "    </tr>\n",
       "    <tr>\n",
       "      <th>11421</th>\n",
       "      <td>yaklaşık bir ay önce anneme aldım hediye olara...</td>\n",
       "      <td>0</td>\n",
       "    </tr>\n",
       "    <tr>\n",
       "      <th>11422</th>\n",
       "      <td>çok beğendim hızlı pişiriyor</td>\n",
       "      <td>0</td>\n",
       "    </tr>\n",
       "    <tr>\n",
       "      <th>11423</th>\n",
       "      <td>Ürünü şu ana kadar çok beğendim.  Standart uyg...</td>\n",
       "      <td>0</td>\n",
       "    </tr>\n",
       "    <tr>\n",
       "      <th>11428</th>\n",
       "      <td>Urun kaliteli zamaninda tedlimat ve kullanisli...</td>\n",
       "      <td>0</td>\n",
       "    </tr>\n",
       "  </tbody>\n",
       "</table>\n",
       "<p>4252 rows × 2 columns</p>\n",
       "</div>"
      ],
      "text/plain": [
       "                                                   gorus  durum\n",
       "2      ses olayı süper....gece çalıştır sıkıntı yok.....      0\n",
       "6                                        kullanisli baya      0\n",
       "16                     Mukemmel bir ürün kesinlikle alın      0\n",
       "22     Arkadaşlar ürün çok güzel ve de sessiz çalışıy...      0\n",
       "23     İndirimdeyken almıştık gayet kullanışlı güçlü ...      0\n",
       "...                                                  ...    ...\n",
       "11416  daha önce kullandığım bir ürün. arkadaşıma hed...      0\n",
       "11421  yaklaşık bir ay önce anneme aldım hediye olara...      0\n",
       "11422                       çok beğendim hızlı pişiriyor      0\n",
       "11423  Ürünü şu ana kadar çok beğendim.  Standart uyg...      0\n",
       "11428  Urun kaliteli zamaninda tedlimat ve kullanisli...      0\n",
       "\n",
       "[4252 rows x 2 columns]"
      ]
     },
     "execution_count": 20,
     "metadata": {},
     "output_type": "execute_result"
    }
   ],
   "source": [
    "df[df[\"durum\"] == 0]"
   ]
  },
  {
   "cell_type": "code",
   "execution_count": 21,
   "id": "fa0e41cd-d6c3-44cf-bd23-d757dfd3a5bf",
   "metadata": {
    "tags": []
   },
   "outputs": [
    {
     "data": {
      "text/html": [
       "<div>\n",
       "<style scoped>\n",
       "    .dataframe tbody tr th:only-of-type {\n",
       "        vertical-align: middle;\n",
       "    }\n",
       "\n",
       "    .dataframe tbody tr th {\n",
       "        vertical-align: top;\n",
       "    }\n",
       "\n",
       "    .dataframe thead th {\n",
       "        text-align: right;\n",
       "    }\n",
       "</style>\n",
       "<table border=\"1\" class=\"dataframe\">\n",
       "  <thead>\n",
       "    <tr style=\"text-align: right;\">\n",
       "      <th></th>\n",
       "      <th>gorus</th>\n",
       "      <th>durum</th>\n",
       "    </tr>\n",
       "  </thead>\n",
       "  <tbody>\n",
       "    <tr>\n",
       "      <th>0</th>\n",
       "      <td>ses kalitesi ve ergonomisi rezalet, sony olduğ...</td>\n",
       "      <td>1</td>\n",
       "    </tr>\n",
       "    <tr>\n",
       "      <th>3</th>\n",
       "      <td>geldi bigün kullandık hemen bozoldu hiçtavsiye...</td>\n",
       "      <td>1</td>\n",
       "    </tr>\n",
       "    <tr>\n",
       "      <th>4</th>\n",
       "      <td>Kulaklığın sesi kaliteli falan değil. Aleti öv...</td>\n",
       "      <td>1</td>\n",
       "    </tr>\n",
       "    <tr>\n",
       "      <th>11</th>\n",
       "      <td>İki kere aldım ikisindede gelen jöle kutusu kı...</td>\n",
       "      <td>1</td>\n",
       "    </tr>\n",
       "    <tr>\n",
       "      <th>13</th>\n",
       "      <td>WPA2 ile sorun yaşayanlar eğer masaüstü bilgis...</td>\n",
       "      <td>1</td>\n",
       "    </tr>\n",
       "    <tr>\n",
       "      <th>...</th>\n",
       "      <td>...</td>\n",
       "      <td>...</td>\n",
       "    </tr>\n",
       "    <tr>\n",
       "      <th>11412</th>\n",
       "      <td>Sakin alisveris yapmayin arkadaslar. UPS ile c...</td>\n",
       "      <td>1</td>\n",
       "    </tr>\n",
       "    <tr>\n",
       "      <th>11417</th>\n",
       "      <td>afişlerde görüldüğü gibi değil gerçekten çok k...</td>\n",
       "      <td>1</td>\n",
       "    </tr>\n",
       "    <tr>\n",
       "      <th>11418</th>\n",
       "      <td>Çok kötü, başta iyi gibiydi iade etmedim 2-3 k...</td>\n",
       "      <td>1</td>\n",
       "    </tr>\n",
       "    <tr>\n",
       "      <th>11420</th>\n",
       "      <td>Sinbo tekli Ocak çok kötü , aldım ,hiç kullanm...</td>\n",
       "      <td>1</td>\n",
       "    </tr>\n",
       "    <tr>\n",
       "      <th>11426</th>\n",
       "      <td>bu cihazı 1 yıldır kullanıyorum cihazı çok beğ...</td>\n",
       "      <td>1</td>\n",
       "    </tr>\n",
       "  </tbody>\n",
       "</table>\n",
       "<p>4237 rows × 2 columns</p>\n",
       "</div>"
      ],
      "text/plain": [
       "                                                   gorus  durum\n",
       "0      ses kalitesi ve ergonomisi rezalet, sony olduğ...      1\n",
       "3      geldi bigün kullandık hemen bozoldu hiçtavsiye...      1\n",
       "4      Kulaklığın sesi kaliteli falan değil. Aleti öv...      1\n",
       "11     İki kere aldım ikisindede gelen jöle kutusu kı...      1\n",
       "13     WPA2 ile sorun yaşayanlar eğer masaüstü bilgis...      1\n",
       "...                                                  ...    ...\n",
       "11412  Sakin alisveris yapmayin arkadaslar. UPS ile c...      1\n",
       "11417  afişlerde görüldüğü gibi değil gerçekten çok k...      1\n",
       "11418  Çok kötü, başta iyi gibiydi iade etmedim 2-3 k...      1\n",
       "11420  Sinbo tekli Ocak çok kötü , aldım ,hiç kullanm...      1\n",
       "11426  bu cihazı 1 yıldır kullanıyorum cihazı çok beğ...      1\n",
       "\n",
       "[4237 rows x 2 columns]"
      ]
     },
     "execution_count": 21,
     "metadata": {},
     "output_type": "execute_result"
    }
   ],
   "source": [
    "df[df[\"durum\"] == 1]"
   ]
  },
  {
   "cell_type": "code",
   "execution_count": 22,
   "id": "728a69f3-f242-451e-9dbd-ef1889d6fa06",
   "metadata": {
    "tags": []
   },
   "outputs": [
    {
     "data": {
      "text/html": [
       "<div>\n",
       "<style scoped>\n",
       "    .dataframe tbody tr th:only-of-type {\n",
       "        vertical-align: middle;\n",
       "    }\n",
       "\n",
       "    .dataframe tbody tr th {\n",
       "        vertical-align: top;\n",
       "    }\n",
       "\n",
       "    .dataframe thead th {\n",
       "        text-align: right;\n",
       "    }\n",
       "</style>\n",
       "<table border=\"1\" class=\"dataframe\">\n",
       "  <thead>\n",
       "    <tr style=\"text-align: right;\">\n",
       "      <th></th>\n",
       "      <th>gorus</th>\n",
       "      <th>durum</th>\n",
       "    </tr>\n",
       "  </thead>\n",
       "  <tbody>\n",
       "    <tr>\n",
       "      <th>1</th>\n",
       "      <td>hizli teslimat tesekkürler</td>\n",
       "      <td>2</td>\n",
       "    </tr>\n",
       "    <tr>\n",
       "      <th>5</th>\n",
       "      <td>Giriş seviyesindeki kullanıcılar için kabul ed...</td>\n",
       "      <td>2</td>\n",
       "    </tr>\n",
       "    <tr>\n",
       "      <th>7</th>\n",
       "      <td>Dezavantajlar : Pahalı ürün&lt;br /&gt;Merhabalar bu...</td>\n",
       "      <td>2</td>\n",
       "    </tr>\n",
       "    <tr>\n",
       "      <th>8</th>\n",
       "      <td>ÜRÜN GÜZEL BU PARALARA BAŞKA BULAMAZSINIZ</td>\n",
       "      <td>2</td>\n",
       "    </tr>\n",
       "    <tr>\n",
       "      <th>9</th>\n",
       "      <td>Tasarım ve kalite iyi olmasına rağmen yazma hı...</td>\n",
       "      <td>2</td>\n",
       "    </tr>\n",
       "    <tr>\n",
       "      <th>...</th>\n",
       "      <td>...</td>\n",
       "      <td>...</td>\n",
       "    </tr>\n",
       "    <tr>\n",
       "      <th>11414</th>\n",
       "      <td>Ürün aşırı ses yapıyor ve bazı ürünlerde tam t...</td>\n",
       "      <td>2</td>\n",
       "    </tr>\n",
       "    <tr>\n",
       "      <th>11419</th>\n",
       "      <td>Yaklaşik 1  yil once aldim şu an kulakliga ses...</td>\n",
       "      <td>2</td>\n",
       "    </tr>\n",
       "    <tr>\n",
       "      <th>11424</th>\n",
       "      <td>biraz fazla ısınıyor ama sorumsuz çalışıyor</td>\n",
       "      <td>2</td>\n",
       "    </tr>\n",
       "    <tr>\n",
       "      <th>11425</th>\n",
       "      <td>orijinal ürün fakat ambalaj bize ulaşana kadar...</td>\n",
       "      <td>2</td>\n",
       "    </tr>\n",
       "    <tr>\n",
       "      <th>11427</th>\n",
       "      <td>Bir sene olmadı ayar düğmesine basıyorum ekran...</td>\n",
       "      <td>2</td>\n",
       "    </tr>\n",
       "  </tbody>\n",
       "</table>\n",
       "<p>2937 rows × 2 columns</p>\n",
       "</div>"
      ],
      "text/plain": [
       "                                                   gorus  durum\n",
       "1                             hizli teslimat tesekkürler      2\n",
       "5      Giriş seviyesindeki kullanıcılar için kabul ed...      2\n",
       "7      Dezavantajlar : Pahalı ürün<br />Merhabalar bu...      2\n",
       "8              ÜRÜN GÜZEL BU PARALARA BAŞKA BULAMAZSINIZ      2\n",
       "9      Tasarım ve kalite iyi olmasına rağmen yazma hı...      2\n",
       "...                                                  ...    ...\n",
       "11414  Ürün aşırı ses yapıyor ve bazı ürünlerde tam t...      2\n",
       "11419  Yaklaşik 1  yil once aldim şu an kulakliga ses...      2\n",
       "11424        biraz fazla ısınıyor ama sorumsuz çalışıyor      2\n",
       "11425  orijinal ürün fakat ambalaj bize ulaşana kadar...      2\n",
       "11427  Bir sene olmadı ayar düğmesine basıyorum ekran...      2\n",
       "\n",
       "[2937 rows x 2 columns]"
      ]
     },
     "execution_count": 22,
     "metadata": {},
     "output_type": "execute_result"
    }
   ],
   "source": [
    "df[df[\"durum\"] == 2]"
   ]
  },
  {
   "cell_type": "markdown",
   "id": "44486f24-dfc9-41b2-9f49-33a8031a2014",
   "metadata": {},
   "source": [
    "## NLTK Kütüphanesi İle Doğal Dil İşleme"
   ]
  },
  {
   "cell_type": "code",
   "execution_count": 23,
   "id": "7275d0d5-999b-47ea-8b95-0da1a13d2c6c",
   "metadata": {},
   "outputs": [
    {
     "name": "stdout",
     "output_type": "stream",
     "text": [
      "Requirement already satisfied: nltk in c:\\users\\monster\\anaconda3\\lib\\site-packages (3.8.1)\n",
      "Requirement already satisfied: click in c:\\users\\monster\\anaconda3\\lib\\site-packages (from nltk) (8.0.4)\n",
      "Requirement already satisfied: joblib in c:\\users\\monster\\anaconda3\\lib\\site-packages (from nltk) (1.3.2)\n",
      "Requirement already satisfied: regex>=2021.8.3 in c:\\users\\monster\\anaconda3\\lib\\site-packages (from nltk) (2023.8.8)\n",
      "Requirement already satisfied: tqdm in c:\\users\\monster\\anaconda3\\lib\\site-packages (from nltk) (4.65.0)\n",
      "Requirement already satisfied: colorama in c:\\users\\monster\\anaconda3\\lib\\site-packages (from click->nltk) (0.4.6)\n",
      "Note: you may need to restart the kernel to use updated packages.\n"
     ]
    }
   ],
   "source": [
    "pip install nltk"
   ]
  },
  {
   "cell_type": "code",
   "execution_count": 24,
   "id": "630d86ce-ea33-419b-94dd-a2082b0302a8",
   "metadata": {
    "tags": []
   },
   "outputs": [],
   "source": [
    "import nltk"
   ]
  },
  {
   "cell_type": "code",
   "execution_count": 25,
   "id": "2283f946-f722-41b2-ab36-f12271ee8127",
   "metadata": {
    "tags": []
   },
   "outputs": [
    {
     "name": "stderr",
     "output_type": "stream",
     "text": [
      "[nltk_data] Downloading package stopwords to\n",
      "[nltk_data]     C:\\Users\\Monster\\AppData\\Roaming\\nltk_data...\n",
      "[nltk_data]   Package stopwords is already up-to-date!\n"
     ]
    },
    {
     "data": {
      "text/plain": [
       "True"
      ]
     },
     "execution_count": 25,
     "metadata": {},
     "output_type": "execute_result"
    }
   ],
   "source": [
    "nltk.download(\"stopwords\")"
   ]
  },
  {
   "cell_type": "code",
   "execution_count": 26,
   "id": "1ace3a2a-1b1f-46bf-816b-229dd69980e3",
   "metadata": {
    "tags": []
   },
   "outputs": [
    {
     "name": "stdout",
     "output_type": "stream",
     "text": [
      "Requirement already satisfied: pip in c:\\users\\monster\\anaconda3\\lib\\site-packages (23.2.1)\n",
      "Note: you may need to restart the kernel to use updated packages.\n"
     ]
    }
   ],
   "source": [
    "pip install --upgrade pip"
   ]
  },
  {
   "cell_type": "code",
   "execution_count": 27,
   "id": "b4b2c252-bbf7-414c-b956-ab618b095c70",
   "metadata": {
    "tags": []
   },
   "outputs": [],
   "source": [
    "ornek_metin = df.gorus[78]"
   ]
  },
  {
   "cell_type": "code",
   "execution_count": 28,
   "id": "45a3cc27-9076-4e13-a713-7025cd56b687",
   "metadata": {
    "tags": []
   },
   "outputs": [
    {
     "data": {
      "text/plain": [
       "'Bu aletle ilgili iyi bir tarafı var diyemeyeceğim ne yazık ki!1-Aşırı gürültülü eski teknoloji dizel motor gibi...2-Ürünü yapanlar hiç test etmediler galiba Türk milleti nasılsa anlamaz demiş olmalılar ki kapağa uyduruk bir silikon monte etmişler.Hazneye sadece 1/2 çay bardağı sıvı koyduğunuzda bile tezgahınızda batmadık yer kalmıyor.2-çok çabuk ısınıyor.4-Doğrama kabiliyeti rezalet.Neticede beş para etmez bir ürün,nasıl aldanıp ta aldım kendime çok kızıyorum....Bu ürünü beğenen varsa daha önce gerçek bir doğrayıcı kullanmamıştır,'"
      ]
     },
     "execution_count": 28,
     "metadata": {},
     "output_type": "execute_result"
    }
   ],
   "source": [
    "ornek_metin"
   ]
  },
  {
   "cell_type": "code",
   "execution_count": 29,
   "id": "fbff9e16-5daf-4f04-9249-922429b621a9",
   "metadata": {
    "tags": []
   },
   "outputs": [
    {
     "data": {
      "text/plain": [
       "'\\nWeb sitesinden alına bir metin olsaydı html etiketlerinin temizlenmesi gerekecekti \\nbu amaçla kullanılacak kütüphane BeautifulSoup kütüphanesidir.\\n'"
      ]
     },
     "execution_count": 29,
     "metadata": {},
     "output_type": "execute_result"
    }
   ],
   "source": [
    "\"\"\"\n",
    "Web sitesinden alına bir metin olsaydı html etiketlerinin temizlenmesi gerekecekti \n",
    "bu amaçla kullanılacak kütüphane BeautifulSoup kütüphanesidir.\n",
    "\"\"\""
   ]
  },
  {
   "cell_type": "code",
   "execution_count": 30,
   "id": "b3bc52ca-d8e4-4ac9-bdde-d5304737135f",
   "metadata": {
    "tags": []
   },
   "outputs": [],
   "source": [
    "from bs4 import BeautifulSoup"
   ]
  },
  {
   "cell_type": "code",
   "execution_count": 31,
   "id": "50c033ce-f0b0-49cf-a3af-9ce146fb5ac3",
   "metadata": {
    "tags": []
   },
   "outputs": [],
   "source": [
    "ornek_metin = BeautifulSoup(ornek_metin).get_text()"
   ]
  },
  {
   "cell_type": "code",
   "execution_count": 32,
   "id": "07df49c2-03d1-495a-8de7-dc4f22816f64",
   "metadata": {
    "tags": []
   },
   "outputs": [
    {
     "data": {
      "text/plain": [
       "'Bu aletle ilgili iyi bir tarafı var diyemeyeceğim ne yazık ki!1-Aşırı gürültülü eski teknoloji dizel motor gibi...2-Ürünü yapanlar hiç test etmediler galiba Türk milleti nasılsa anlamaz demiş olmalılar ki kapağa uyduruk bir silikon monte etmişler.Hazneye sadece 1/2 çay bardağı sıvı koyduğunuzda bile tezgahınızda batmadık yer kalmıyor.2-çok çabuk ısınıyor.4-Doğrama kabiliyeti rezalet.Neticede beş para etmez bir ürün,nasıl aldanıp ta aldım kendime çok kızıyorum....Bu ürünü beğenen varsa daha önce gerçek bir doğrayıcı kullanmamıştır,'"
      ]
     },
     "execution_count": 32,
     "metadata": {},
     "output_type": "execute_result"
    }
   ],
   "source": [
    "ornek_metin"
   ]
  },
  {
   "cell_type": "code",
   "execution_count": 33,
   "id": "a02ea8a7-69d3-483a-8122-454080722572",
   "metadata": {
    "tags": []
   },
   "outputs": [
    {
     "data": {
      "text/plain": [
       "'\\nNoktalama işaretlierinin temizlenmesi için re kütüphanesi kullanılır.\\n'"
      ]
     },
     "execution_count": 33,
     "metadata": {},
     "output_type": "execute_result"
    }
   ],
   "source": [
    "\"\"\"\n",
    "Noktalama işaretlierinin temizlenmesi için re kütüphanesi kullanılır.\n",
    "\"\"\""
   ]
  },
  {
   "cell_type": "code",
   "execution_count": 34,
   "id": "f91bbfb3-7ee8-4a96-8f92-ea6f7f0aafd9",
   "metadata": {
    "tags": []
   },
   "outputs": [],
   "source": [
    "import re"
   ]
  },
  {
   "cell_type": "code",
   "execution_count": 35,
   "id": "267fa35c-51e4-433e-ab46-2684b8ebb242",
   "metadata": {
    "tags": []
   },
   "outputs": [],
   "source": [
    "ornek_metin = re.sub(r'[^a-zA-ZğüşıöçĞÜŞİÖÇ\\s]', ' ', ornek_metin) ##Türkçe karakterleri korudum."
   ]
  },
  {
   "cell_type": "code",
   "execution_count": 36,
   "id": "f3e217b6-9e70-46dd-851b-084a9ba65885",
   "metadata": {
    "tags": []
   },
   "outputs": [
    {
     "data": {
      "text/plain": [
       "'Bu aletle ilgili iyi bir tarafı var diyemeyeceğim ne yazık ki   Aşırı gürültülü eski teknoloji dizel motor gibi     Ürünü yapanlar hiç test etmediler galiba Türk milleti nasılsa anlamaz demiş olmalılar ki kapağa uyduruk bir silikon monte etmişler Hazneye sadece     çay bardağı sıvı koyduğunuzda bile tezgahınızda batmadık yer kalmıyor   çok çabuk ısınıyor   Doğrama kabiliyeti rezalet Neticede beş para etmez bir ürün nasıl aldanıp ta aldım kendime çok kızıyorum    Bu ürünü beğenen varsa daha önce gerçek bir doğrayıcı kullanmamıştır '"
      ]
     },
     "execution_count": 36,
     "metadata": {},
     "output_type": "execute_result"
    }
   ],
   "source": [
    "ornek_metin"
   ]
  },
  {
   "cell_type": "code",
   "execution_count": 37,
   "id": "eeb4800c-02eb-41b5-9142-0610b2bc75a3",
   "metadata": {
    "tags": []
   },
   "outputs": [],
   "source": [
    "ornek_metin = ' '.join(ornek_metin.lower().split())"
   ]
  },
  {
   "cell_type": "code",
   "execution_count": 38,
   "id": "50df33ef-e010-4763-b212-150a5a85aefc",
   "metadata": {
    "tags": []
   },
   "outputs": [
    {
     "data": {
      "text/plain": [
       "'bu aletle ilgili iyi bir tarafı var diyemeyeceğim ne yazık ki aşırı gürültülü eski teknoloji dizel motor gibi ürünü yapanlar hiç test etmediler galiba türk milleti nasılsa anlamaz demiş olmalılar ki kapağa uyduruk bir silikon monte etmişler hazneye sadece çay bardağı sıvı koyduğunuzda bile tezgahınızda batmadık yer kalmıyor çok çabuk ısınıyor doğrama kabiliyeti rezalet neticede beş para etmez bir ürün nasıl aldanıp ta aldım kendime çok kızıyorum bu ürünü beğenen varsa daha önce gerçek bir doğrayıcı kullanmamıştır'"
      ]
     },
     "execution_count": 38,
     "metadata": {},
     "output_type": "execute_result"
    }
   ],
   "source": [
    "ornek_metin"
   ]
  },
  {
   "cell_type": "code",
   "execution_count": 39,
   "id": "a698b70d-406e-4632-aed0-b6ca16230a53",
   "metadata": {
    "tags": []
   },
   "outputs": [],
   "source": [
    "ornek_metin = ornek_metin.split()"
   ]
  },
  {
   "cell_type": "code",
   "execution_count": 40,
   "id": "7491a855-3830-4f67-b1bb-f45ddc71bb16",
   "metadata": {
    "tags": []
   },
   "outputs": [
    {
     "data": {
      "text/plain": [
       "['bu',\n",
       " 'aletle',\n",
       " 'ilgili',\n",
       " 'iyi',\n",
       " 'bir',\n",
       " 'tarafı',\n",
       " 'var',\n",
       " 'diyemeyeceğim',\n",
       " 'ne',\n",
       " 'yazık',\n",
       " 'ki',\n",
       " 'aşırı',\n",
       " 'gürültülü',\n",
       " 'eski',\n",
       " 'teknoloji',\n",
       " 'dizel',\n",
       " 'motor',\n",
       " 'gibi',\n",
       " 'ürünü',\n",
       " 'yapanlar',\n",
       " 'hiç',\n",
       " 'test',\n",
       " 'etmediler',\n",
       " 'galiba',\n",
       " 'türk',\n",
       " 'milleti',\n",
       " 'nasılsa',\n",
       " 'anlamaz',\n",
       " 'demiş',\n",
       " 'olmalılar',\n",
       " 'ki',\n",
       " 'kapağa',\n",
       " 'uyduruk',\n",
       " 'bir',\n",
       " 'silikon',\n",
       " 'monte',\n",
       " 'etmişler',\n",
       " 'hazneye',\n",
       " 'sadece',\n",
       " 'çay',\n",
       " 'bardağı',\n",
       " 'sıvı',\n",
       " 'koyduğunuzda',\n",
       " 'bile',\n",
       " 'tezgahınızda',\n",
       " 'batmadık',\n",
       " 'yer',\n",
       " 'kalmıyor',\n",
       " 'çok',\n",
       " 'çabuk',\n",
       " 'ısınıyor',\n",
       " 'doğrama',\n",
       " 'kabiliyeti',\n",
       " 'rezalet',\n",
       " 'neticede',\n",
       " 'beş',\n",
       " 'para',\n",
       " 'etmez',\n",
       " 'bir',\n",
       " 'ürün',\n",
       " 'nasıl',\n",
       " 'aldanıp',\n",
       " 'ta',\n",
       " 'aldım',\n",
       " 'kendime',\n",
       " 'çok',\n",
       " 'kızıyorum',\n",
       " 'bu',\n",
       " 'ürünü',\n",
       " 'beğenen',\n",
       " 'varsa',\n",
       " 'daha',\n",
       " 'önce',\n",
       " 'gerçek',\n",
       " 'bir',\n",
       " 'doğrayıcı',\n",
       " 'kullanmamıştır']"
      ]
     },
     "execution_count": 40,
     "metadata": {},
     "output_type": "execute_result"
    }
   ],
   "source": [
    "ornek_metin"
   ]
  },
  {
   "cell_type": "code",
   "execution_count": 41,
   "id": "7d6b0eb9-8fae-444c-9834-f94572bbe0ae",
   "metadata": {
    "tags": []
   },
   "outputs": [
    {
     "data": {
      "text/plain": [
       "77"
      ]
     },
     "execution_count": 41,
     "metadata": {},
     "output_type": "execute_result"
    }
   ],
   "source": [
    "len(ornek_metin)"
   ]
  },
  {
   "cell_type": "code",
   "execution_count": 42,
   "id": "bdbc2ad2-3cd6-416f-bf50-0383e5dc3ac5",
   "metadata": {
    "tags": []
   },
   "outputs": [],
   "source": [
    "from nltk.corpus import stopwords"
   ]
  },
  {
   "cell_type": "code",
   "execution_count": 43,
   "id": "a917d716-fc1e-4804-9513-822d2de00c0a",
   "metadata": {
    "tags": []
   },
   "outputs": [],
   "source": [
    "swords = set(stopwords.words(\"turkish\"))"
   ]
  },
  {
   "cell_type": "code",
   "execution_count": 44,
   "id": "8f11613a-c5c5-4068-90ef-4382bc41f76b",
   "metadata": {
    "tags": []
   },
   "outputs": [
    {
     "data": {
      "text/plain": [
       "['aletle',\n",
       " 'ilgili',\n",
       " 'iyi',\n",
       " 'bir',\n",
       " 'tarafı',\n",
       " 'var',\n",
       " 'diyemeyeceğim',\n",
       " 'yazık',\n",
       " 'aşırı',\n",
       " 'gürültülü',\n",
       " 'eski',\n",
       " 'teknoloji',\n",
       " 'dizel',\n",
       " 'motor',\n",
       " 'ürünü',\n",
       " 'yapanlar',\n",
       " 'test',\n",
       " 'etmediler',\n",
       " 'galiba',\n",
       " 'türk',\n",
       " 'milleti',\n",
       " 'nasılsa',\n",
       " 'anlamaz',\n",
       " 'demiş',\n",
       " 'olmalılar',\n",
       " 'kapağa',\n",
       " 'uyduruk',\n",
       " 'bir',\n",
       " 'silikon',\n",
       " 'monte',\n",
       " 'etmişler',\n",
       " 'hazneye',\n",
       " 'sadece',\n",
       " 'çay',\n",
       " 'bardağı',\n",
       " 'sıvı',\n",
       " 'koyduğunuzda',\n",
       " 'bile',\n",
       " 'tezgahınızda',\n",
       " 'batmadık',\n",
       " 'yer',\n",
       " 'kalmıyor',\n",
       " 'çabuk',\n",
       " 'ısınıyor',\n",
       " 'doğrama',\n",
       " 'kabiliyeti',\n",
       " 'rezalet',\n",
       " 'neticede',\n",
       " 'beş',\n",
       " 'para',\n",
       " 'etmez',\n",
       " 'bir',\n",
       " 'ürün',\n",
       " 'aldanıp',\n",
       " 'ta',\n",
       " 'aldım',\n",
       " 'kendime',\n",
       " 'kızıyorum',\n",
       " 'ürünü',\n",
       " 'beğenen',\n",
       " 'varsa',\n",
       " 'önce',\n",
       " 'gerçek',\n",
       " 'bir',\n",
       " 'doğrayıcı',\n",
       " 'kullanmamıştır']"
      ]
     },
     "execution_count": 44,
     "metadata": {},
     "output_type": "execute_result"
    }
   ],
   "source": [
    "ornek_metin=[w for w in ornek_metin if w not in swords] #iterasyon işlemi yaptım\n",
    "ornek_metin"
   ]
  },
  {
   "cell_type": "code",
   "execution_count": 45,
   "id": "01fc145e-fdc0-4de7-a8ee-330da79401b3",
   "metadata": {
    "tags": []
   },
   "outputs": [
    {
     "data": {
      "text/plain": [
       "66"
      ]
     },
     "execution_count": 45,
     "metadata": {},
     "output_type": "execute_result"
    }
   ],
   "source": [
    "len(ornek_metin)"
   ]
  },
  {
   "cell_type": "code",
   "execution_count": 46,
   "id": "a73c13fe-6e45-406a-a94d-0fd2f0f42256",
   "metadata": {
    "tags": []
   },
   "outputs": [],
   "source": [
    "def islem(gorus):\n",
    "    gorus = BeautifulSoup(gorus).get_text()\n",
    "    gorus = re.sub(r'[^a-zA-ZğüşıöçĞÜŞİÖÇ\\s]', ' ', gorus)\n",
    "    gorus.lower()\n",
    "    gorus = gorus.split()\n",
    "    swords = set(stopwords.words(\"turkish\"))\n",
    "    gorus = [w for w in gorus if w not in swords]\n",
    "    return (\" \".join(gorus))"
   ]
  },
  {
   "cell_type": "code",
   "execution_count": 47,
   "id": "b69b07d3-2613-41e9-91db-c554d7c78b99",
   "metadata": {
    "tags": []
   },
   "outputs": [
    {
     "data": {
      "text/plain": [
       "{'acaba',\n",
       " 'ama',\n",
       " 'aslında',\n",
       " 'az',\n",
       " 'bazı',\n",
       " 'belki',\n",
       " 'biri',\n",
       " 'birkaç',\n",
       " 'birşey',\n",
       " 'biz',\n",
       " 'bu',\n",
       " 'da',\n",
       " 'daha',\n",
       " 'de',\n",
       " 'defa',\n",
       " 'diye',\n",
       " 'en',\n",
       " 'eğer',\n",
       " 'gibi',\n",
       " 'hem',\n",
       " 'hep',\n",
       " 'hepsi',\n",
       " 'her',\n",
       " 'hiç',\n",
       " 'ile',\n",
       " 'ise',\n",
       " 'için',\n",
       " 'kez',\n",
       " 'ki',\n",
       " 'kim',\n",
       " 'mu',\n",
       " 'mü',\n",
       " 'mı',\n",
       " 'nasıl',\n",
       " 'ne',\n",
       " 'neden',\n",
       " 'nerde',\n",
       " 'nerede',\n",
       " 'nereye',\n",
       " 'niye',\n",
       " 'niçin',\n",
       " 'o',\n",
       " 'sanki',\n",
       " 'siz',\n",
       " 'tüm',\n",
       " 've',\n",
       " 'veya',\n",
       " 'ya',\n",
       " 'yani',\n",
       " 'çok',\n",
       " 'çünkü',\n",
       " 'şey',\n",
       " 'şu'}"
      ]
     },
     "execution_count": 47,
     "metadata": {},
     "output_type": "execute_result"
    }
   ],
   "source": [
    "swords"
   ]
  },
  {
   "cell_type": "code",
   "execution_count": 48,
   "id": "5fb17bd3-54b1-4a37-90f6-ce11cf07d2de",
   "metadata": {
    "tags": []
   },
   "outputs": [
    {
     "name": "stdout",
     "output_type": "stream",
     "text": [
      "En sık kullanılan 2000 kelimeler ['aldanıp' 'aldım' 'aletle' 'anlamaz' 'aşırı' 'bardağı' 'batmadık'\n",
      " 'beğenen' 'beş' 'bile' 'bir' 'demiş' 'diyemeyeceğim' 'dizel' 'doğrama'\n",
      " 'doğrayıcı' 'eski' 'etmediler' 'etmez' 'etmişler' 'galiba' 'gerçek'\n",
      " 'gürültülü' 'hazneye' 'ilgili' 'iyi' 'kabiliyeti' 'kalmıyor' 'kapağa'\n",
      " 'kendime' 'koyduğunuzda' 'kullanmamıştır' 'kızıyorum' 'milleti' 'monte'\n",
      " 'motor' 'nasılsa' 'neticede' 'olmalılar' 'para' 'rezalet' 'sadece'\n",
      " 'silikon' 'sıvı' 'ta' 'tarafı' 'teknoloji' 'test' 'tezgahınızda' 'türk'\n",
      " 'uyduruk' 'var' 'varsa' 'yapanlar' 'yazık' 'yer' 'çabuk' 'çay' 'önce'\n",
      " 'ürün' 'ürünü' 'ısınıyor']\n"
     ]
    }
   ],
   "source": [
    "from sklearn.feature_extraction.text import CountVectorizer\n",
    "max_feature = 2000\n",
    "\n",
    "cv = CountVectorizer(max_features = max_feature, stop_words = stopwords.words(\"turkish\"))\n",
    "\n",
    "space_matrix = cv.fit_transform(ornek_metin).toarray() # x\n",
    "\n",
    "print(\"En sık kullanılan {} kelimeler {}\".format(max_feature, cv.get_feature_names_out()))"
   ]
  },
  {
   "cell_type": "code",
   "execution_count": 49,
   "id": "260dedba-10dd-4f4f-b142-744c470e5790",
   "metadata": {
    "tags": []
   },
   "outputs": [
    {
     "name": "stdout",
     "output_type": "stream",
     "text": [
      "Requirement already satisfied: wordcloud in c:\\users\\monster\\anaconda3\\lib\\site-packages (1.9.2)\n",
      "Requirement already satisfied: numpy>=1.6.1 in c:\\users\\monster\\anaconda3\\lib\\site-packages (from wordcloud) (1.25.2)\n",
      "Requirement already satisfied: pillow in c:\\users\\monster\\anaconda3\\lib\\site-packages (from wordcloud) (9.4.0)\n",
      "Requirement already satisfied: matplotlib in c:\\users\\monster\\anaconda3\\lib\\site-packages (from wordcloud) (3.7.2)\n",
      "Requirement already satisfied: contourpy>=1.0.1 in c:\\users\\monster\\anaconda3\\lib\\site-packages (from matplotlib->wordcloud) (1.1.0)\n",
      "Requirement already satisfied: cycler>=0.10 in c:\\users\\monster\\anaconda3\\lib\\site-packages (from matplotlib->wordcloud) (0.11.0)\n",
      "Requirement already satisfied: fonttools>=4.22.0 in c:\\users\\monster\\anaconda3\\lib\\site-packages (from matplotlib->wordcloud) (4.42.1)\n",
      "Requirement already satisfied: kiwisolver>=1.0.1 in c:\\users\\monster\\anaconda3\\lib\\site-packages (from matplotlib->wordcloud) (1.4.5)\n",
      "Requirement already satisfied: packaging>=20.0 in c:\\users\\monster\\anaconda3\\lib\\site-packages (from matplotlib->wordcloud) (23.0)\n",
      "Requirement already satisfied: pyparsing<3.1,>=2.3.1 in c:\\users\\monster\\anaconda3\\lib\\site-packages (from matplotlib->wordcloud) (3.0.9)\n",
      "Requirement already satisfied: python-dateutil>=2.7 in c:\\users\\monster\\anaconda3\\lib\\site-packages (from matplotlib->wordcloud) (2.8.2)\n",
      "Requirement already satisfied: six>=1.5 in c:\\users\\monster\\anaconda3\\lib\\site-packages (from python-dateutil>=2.7->matplotlib->wordcloud) (1.16.0)\n",
      "Note: you may need to restart the kernel to use updated packages.\n"
     ]
    }
   ],
   "source": [
    "pip install wordcloud"
   ]
  },
  {
   "cell_type": "code",
   "execution_count": 50,
   "id": "a9d580ca-289e-4f66-a4ee-324ec969db60",
   "metadata": {
    "tags": []
   },
   "outputs": [
    {
     "data": {
      "image/png": "[encoded data removed]",
      "text/plain": [
       "<Figure size 1200x1200 with 1 Axes>"
      ]
     },
     "metadata": {},
     "output_type": "display_data"
    }
   ],
   "source": [
    "from wordcloud import WordCloud\n",
    "\n",
    "encokkullanilanlar = cv.get_feature_names_out()\n",
    "\n",
    "plt.subplots(figsize=(12,12))\n",
    "wordcloud=WordCloud(background_color=\"white\",width=1024,height=768).generate(\" \".join(list(encokkullanilanlar)))\n",
    "plt.imshow(wordcloud)\n",
    "plt.axis(\"off\")\n",
    "plt.show()"
   ]
  },
  {
   "cell_type": "code",
   "execution_count": 51,
   "id": "0a0a3c53-4f8e-4e13-b1a2-ea6f8359400c",
   "metadata": {
    "tags": []
   },
   "outputs": [
    {
     "name": "stdout",
     "output_type": "stream",
     "text": [
      "işlem adımı 197\n",
      "işlem adımı 394\n",
      "işlem adımı 591\n",
      "işlem adımı 788\n",
      "işlem adımı 985\n",
      "işlem adımı 1182\n",
      "işlem adımı 1379\n",
      "işlem adımı 1576\n",
      "işlem adımı 1773\n",
      "işlem adımı 1970\n",
      "işlem adımı 2167\n",
      "işlem adımı 2364\n",
      "işlem adımı 2561\n",
      "işlem adımı 2758\n",
      "işlem adımı 2955\n",
      "işlem adımı 3152\n",
      "işlem adımı 3349\n",
      "işlem adımı 3546\n",
      "işlem adımı 3743\n",
      "işlem adımı 3940\n",
      "işlem adımı 4137\n",
      "işlem adımı 4334\n",
      "işlem adımı 4531\n",
      "işlem adımı 4728\n",
      "işlem adımı 4925\n",
      "işlem adımı 5122\n",
      "işlem adımı 5319\n",
      "işlem adımı 5516\n",
      "işlem adımı 5713\n",
      "işlem adımı 5910\n",
      "işlem adımı 6107\n",
      "işlem adımı 6304\n",
      "işlem adımı 6501\n",
      "işlem adımı 6698\n",
      "işlem adımı 6895\n",
      "işlem adımı 7092\n",
      "işlem adımı 7289\n",
      "işlem adımı 7486\n",
      "işlem adımı 7683\n",
      "işlem adımı 7880\n",
      "işlem adımı 8077\n",
      "işlem adımı 8274\n",
      "işlem adımı 8471\n",
      "işlem adımı 8668\n",
      "işlem adımı 8865\n",
      "işlem adımı 9062\n",
      "işlem adımı 9259\n",
      "işlem adımı 9456\n",
      "işlem adımı 9653\n",
      "işlem adımı 9850\n",
      "işlem adımı 10047\n",
      "işlem adımı 10244\n",
      "işlem adımı 10441\n",
      "işlem adımı 10638\n",
      "işlem adımı 10835\n",
      "işlem adımı 11032\n",
      "işlem adımı 11229\n",
      "işlem adımı 11426\n"
     ]
    }
   ],
   "source": [
    "train_x_tum=[]\n",
    "for i in range(len(df)):\n",
    "    if (i + 1) % 197 == 0:\n",
    "        print(\"işlem adımı\", i + 1)\n",
    "    train_x_tum.append(islem(df[\"gorus\"].iloc[i]))"
   ]
  },
  {
   "cell_type": "code",
   "execution_count": 52,
   "id": "0801d252-eafe-42f2-a53d-55dfbde05e42",
   "metadata": {
    "tags": []
   },
   "outputs": [
    {
     "data": {
      "text/plain": [
       "(11426, 2)"
      ]
     },
     "execution_count": 52,
     "metadata": {},
     "output_type": "execute_result"
    }
   ],
   "source": [
    "df.shape"
   ]
  },
  {
   "cell_type": "markdown",
   "id": "2a997172-282d-445b-a362-4ced3925e7c1",
   "metadata": {},
   "source": [
    "## Model Eğitimi"
   ]
  },
  {
   "cell_type": "code",
   "execution_count": 53,
   "id": "d9bb1ae3-4f99-44ce-88f1-fbd00edf7e8e",
   "metadata": {},
   "outputs": [],
   "source": [
    "from sklearn.model_selection import train_test_split"
   ]
  },
  {
   "cell_type": "code",
   "execution_count": 54,
   "id": "2229cc30-e7f5-4fcd-bef3-c9b79b91cfc1",
   "metadata": {
    "tags": []
   },
   "outputs": [],
   "source": [
    "x = train_x_tum\n",
    "y = np.array(df[\"durum\"])"
   ]
  },
  {
   "cell_type": "code",
   "execution_count": 55,
   "id": "ff245804-6b4f-4729-b7e1-16ed65f2bba5",
   "metadata": {
    "tags": []
   },
   "outputs": [],
   "source": [
    "X_train,X_test,y_train,y_test = train_test_split(x,y,test_size=0.30,random_state=1000)"
   ]
  },
  {
   "cell_type": "code",
   "execution_count": 56,
   "id": "bceed7d1-3976-4172-8909-804958723118",
   "metadata": {
    "tags": []
   },
   "outputs": [],
   "source": [
    "from sklearn.feature_extraction.text import CountVectorizer"
   ]
  },
  {
   "cell_type": "code",
   "execution_count": 57,
   "id": "bad365de-f20e-4bfb-9671-c243cd99ab74",
   "metadata": {
    "tags": []
   },
   "outputs": [],
   "source": [
    "vectorizer = CountVectorizer(max_features=5000)"
   ]
  },
  {
   "cell_type": "code",
   "execution_count": 58,
   "id": "95ee2252-5d07-4f61-b211-188dd49b5fad",
   "metadata": {
    "tags": []
   },
   "outputs": [],
   "source": [
    "train_x1 = vectorizer.fit_transform(X_train)"
   ]
  },
  {
   "cell_type": "code",
   "execution_count": 59,
   "id": "8c0fd057-0874-4107-9a0a-eacb4123635a",
   "metadata": {
    "tags": []
   },
   "outputs": [
    {
     "data": {
      "text/plain": [
       "<7998x5000 sparse matrix of type '<class 'numpy.int64'>'\n",
       "\twith 114999 stored elements in Compressed Sparse Row format>"
      ]
     },
     "execution_count": 59,
     "metadata": {},
     "output_type": "execute_result"
    }
   ],
   "source": [
    "train_x1"
   ]
  },
  {
   "cell_type": "code",
   "execution_count": 60,
   "id": "48fb09bb-eb50-4d32-84a5-6bc6e579580c",
   "metadata": {
    "tags": []
   },
   "outputs": [],
   "source": [
    "train_x1 = train_x1.toarray()"
   ]
  },
  {
   "cell_type": "code",
   "execution_count": 61,
   "id": "67cb9aea-3cc2-44fc-b0ec-230cfae41928",
   "metadata": {
    "tags": []
   },
   "outputs": [],
   "source": [
    "train_y1 = y_train"
   ]
  },
  {
   "cell_type": "code",
   "execution_count": 62,
   "id": "eb7b29c8-7ca4-4912-9367-ef7109050cf2",
   "metadata": {
    "tags": []
   },
   "outputs": [
    {
     "data": {
      "text/plain": [
       "((7998, 5000), (7998,))"
      ]
     },
     "execution_count": 62,
     "metadata": {},
     "output_type": "execute_result"
    }
   ],
   "source": [
    "train_x1.shape,train_y1.shape"
   ]
  },
  {
   "cell_type": "markdown",
   "id": "a202dd0b-3a20-4c0c-bf91-58fba5e660c8",
   "metadata": {},
   "source": [
    "## Makine Öğrenmesi Algoritmaları"
   ]
  },
  {
   "cell_type": "markdown",
   "id": "ef185caa-5931-493c-819d-6e8f52eac7a1",
   "metadata": {},
   "source": [
    "### Naive Bayes"
   ]
  },
  {
   "cell_type": "markdown",
   "id": "06920078-3b50-4380-85db-f39f4b958d2e",
   "metadata": {},
   "source": [
    "#### Naive Bayes - MultinomialNB"
   ]
  },
  {
   "cell_type": "code",
   "execution_count": 63,
   "id": "8ef46122-2c86-4f31-b703-6fcee8c192dd",
   "metadata": {
    "tags": []
   },
   "outputs": [],
   "source": [
    "from sklearn.naive_bayes import MultinomialNB"
   ]
  },
  {
   "cell_type": "code",
   "execution_count": 64,
   "id": "de269452-4179-42b8-ab7d-50edd57c00dc",
   "metadata": {
    "tags": []
   },
   "outputs": [],
   "source": [
    "naive_bayes = MultinomialNB()"
   ]
  },
  {
   "cell_type": "code",
   "execution_count": 65,
   "id": "9b43fe94-0fa5-403e-9165-1a4952c64e79",
   "metadata": {
    "tags": []
   },
   "outputs": [
    {
     "data": {
      "text/html": [
       "<style>#sk-container-id-1 {color: black;}#sk-container-id-1 pre{padding: 0;}#sk-container-id-1 div.sk-toggleable {background-color: white;}#sk-container-id-1 label.sk-toggleable__label {cursor: pointer;display: block;width: 100%;margin-bottom: 0;padding: 0.3em;box-sizing: border-box;text-align: center;}#sk-container-id-1 label.sk-toggleable__label-arrow:before {content: \"▸\";float: left;margin-right: 0.25em;color: #696969;}#sk-container-id-1 label.sk-toggleable__label-arrow:hover:before {color: black;}#sk-container-id-1 div.sk-estimator:hover label.sk-toggleable__label-arrow:before {color: black;}#sk-container-id-1 div.sk-toggleable__content {max-height: 0;max-width: 0;overflow: hidden;text-align: left;background-color: #f0f8ff;}#sk-container-id-1 div.sk-toggleable__content pre {margin: 0.2em;color: black;border-radius: 0.25em;background-color: #f0f8ff;}#sk-container-id-1 input.sk-toggleable__control:checked~div.sk-toggleable__content {max-height: 200px;max-width: 100%;overflow: auto;}#sk-container-id-1 input.sk-toggleable__control:checked~label.sk-toggleable__label-arrow:before {content: \"▾\";}#sk-container-id-1 div.sk-estimator input.sk-toggleable__control:checked~label.sk-toggleable__label {background-color: #d4ebff;}#sk-container-id-1 div.sk-label input.sk-toggleable__control:checked~label.sk-toggleable__label {background-color: #d4ebff;}#sk-container-id-1 input.sk-hidden--visually {border: 0;clip: rect(1px 1px 1px 1px);clip: rect(1px, 1px, 1px, 1px);height: 1px;margin: -1px;overflow: hidden;padding: 0;position: absolute;width: 1px;}#sk-container-id-1 div.sk-estimator {font-family: monospace;background-color: #f0f8ff;border: 1px dotted black;border-radius: 0.25em;box-sizing: border-box;margin-bottom: 0.5em;}#sk-container-id-1 div.sk-estimator:hover {background-color: #d4ebff;}#sk-container-id-1 div.sk-parallel-item::after {content: \"\";width: 100%;border-bottom: 1px solid gray;flex-grow: 1;}#sk-container-id-1 div.sk-label:hover label.sk-toggleable__label {background-color: #d4ebff;}#sk-container-id-1 div.sk-serial::before {content: \"\";position: absolute;border-left: 1px solid gray;box-sizing: border-box;top: 0;bottom: 0;left: 50%;z-index: 0;}#sk-container-id-1 div.sk-serial {display: flex;flex-direction: column;align-items: center;background-color: white;padding-right: 0.2em;padding-left: 0.2em;position: relative;}#sk-container-id-1 div.sk-item {position: relative;z-index: 1;}#sk-container-id-1 div.sk-parallel {display: flex;align-items: stretch;justify-content: center;background-color: white;position: relative;}#sk-container-id-1 div.sk-item::before, #sk-container-id-1 div.sk-parallel-item::before {content: \"\";position: absolute;border-left: 1px solid gray;box-sizing: border-box;top: 0;bottom: 0;left: 50%;z-index: -1;}#sk-container-id-1 div.sk-parallel-item {display: flex;flex-direction: column;z-index: 1;position: relative;background-color: white;}#sk-container-id-1 div.sk-parallel-item:first-child::after {align-self: flex-end;width: 50%;}#sk-container-id-1 div.sk-parallel-item:last-child::after {align-self: flex-start;width: 50%;}#sk-container-id-1 div.sk-parallel-item:only-child::after {width: 0;}#sk-container-id-1 div.sk-dashed-wrapped {border: 1px dashed gray;margin: 0 0.4em 0.5em 0.4em;box-sizing: border-box;padding-bottom: 0.4em;background-color: white;}#sk-container-id-1 div.sk-label label {font-family: monospace;font-weight: bold;display: inline-block;line-height: 1.2em;}#sk-container-id-1 div.sk-label-container {text-align: center;}#sk-container-id-1 div.sk-container {/* jupyter's `normalize.less` sets `[hidden] { display: none; }` but bootstrap.min.css set `[hidden] { display: none !important; }` so we also need the `!important` here to be able to override the default hidden behavior on the sphinx rendered scikit-learn.org. See: https://github.com/scikit-learn/scikit-learn/issues/21755 */display: inline-block !important;position: relative;}#sk-container-id-1 div.sk-text-repr-fallback {display: none;}</style><div id=\"sk-container-id-1\" class=\"sk-top-container\"><div class=\"sk-text-repr-fallback\"><pre>MultinomialNB()</pre><b>In a Jupyter environment, please rerun this cell to show the HTML representation or trust the notebook. <br />On GitHub, the HTML representation is unable to render, please try loading this page with nbviewer.org.</b></div><div class=\"sk-container\" hidden><div class=\"sk-item\"><div class=\"sk-estimator sk-toggleable\"><input class=\"sk-toggleable__control sk-hidden--visually\" id=\"sk-estimator-id-1\" type=\"checkbox\" checked><label for=\"sk-estimator-id-1\" class=\"sk-toggleable__label sk-toggleable__label-arrow\">MultinomialNB</label><div class=\"sk-toggleable__content\"><pre>MultinomialNB()</pre></div></div></div></div></div>"
      ],
      "text/plain": [
       "MultinomialNB()"
      ]
     },
     "execution_count": 65,
     "metadata": {},
     "output_type": "execute_result"
    }
   ],
   "source": [
    "naive_bayes.fit(train_x1, train_y1)"
   ]
  },
  {
   "cell_type": "code",
   "execution_count": 66,
   "id": "c7bf94fc-bd0e-4daa-b4b5-ad3bb4a9e5ad",
   "metadata": {
    "tags": []
   },
   "outputs": [],
   "source": [
    "test_x1 = vectorizer.transform(X_test)"
   ]
  },
  {
   "cell_type": "code",
   "execution_count": 67,
   "id": "4237032c-6d50-4873-887f-701e6c151024",
   "metadata": {
    "tags": []
   },
   "outputs": [],
   "source": [
    "y_pred = naive_bayes.predict(test_x1)"
   ]
  },
  {
   "cell_type": "code",
   "execution_count": 68,
   "id": "52d0f75e-5920-485d-85f9-f7ae97d1e5c0",
   "metadata": {
    "tags": []
   },
   "outputs": [],
   "source": [
    "from sklearn.metrics import accuracy_score,confusion_matrix,precision_score,recall_score,f1_score,cohen_kappa_score,roc_curve, roc_auc_score"
   ]
  },
  {
   "cell_type": "code",
   "execution_count": 69,
   "id": "b17b0be4-2cf7-4193-b1c8-9aa9c501abdd",
   "metadata": {
    "tags": []
   },
   "outputs": [
    {
     "name": "stdout",
     "output_type": "stream",
     "text": [
      "Doğruluk Skoru: 0.7106184364060677\n"
     ]
    }
   ],
   "source": [
    "accuracy = accuracy_score(y_test, y_pred)\n",
    "print(\"Doğruluk Skoru:\", accuracy)"
   ]
  },
  {
   "cell_type": "code",
   "execution_count": 70,
   "id": "fdb7f7fc-9cd4-441e-9a73-5193f86de75b",
   "metadata": {
    "tags": []
   },
   "outputs": [
    {
     "name": "stdout",
     "output_type": "stream",
     "text": [
      "Micro-averaged Hassasiyet (Precision): 0.7106184364060677\n",
      "Macro-averaged Hassasiyet (Precision): 0.6871313714748978\n",
      "Weighted-averaged Hassasiyet (Precision): 0.7092816882649992\n"
     ]
    }
   ],
   "source": [
    "precision_micro = precision_score(y_test, y_pred, average='micro')\n",
    "print(\"Micro-averaged Hassasiyet (Precision):\", precision_micro)\n",
    "precision_macro = precision_score(y_test, y_pred, average='macro')\n",
    "print(\"Macro-averaged Hassasiyet (Precision):\", precision_macro)\n",
    "precision_weighted = precision_score(y_test, y_pred, average='weighted')\n",
    "print(\"Weighted-averaged Hassasiyet (Precision):\", precision_weighted)"
   ]
  },
  {
   "cell_type": "code",
   "execution_count": 71,
   "id": "bbc52a09-b535-4078-b9f3-2fc657c09722",
   "metadata": {
    "tags": []
   },
   "outputs": [
    {
     "name": "stdout",
     "output_type": "stream",
     "text": [
      "Micro-averaged Duyarlılık (Recall): 0.7106184364060677\n",
      "Macro-averaged Duyarlılık (Recall): 0.6852344671789116\n",
      "Weighted-averaged Duyarlılık (Recall): 0.7106184364060677\n"
     ]
    }
   ],
   "source": [
    "recall_micro = recall_score(y_test, y_pred, average='micro')\n",
    "print(\"Micro-averaged Duyarlılık (Recall):\", recall_micro)\n",
    "recall_macro = recall_score(y_test, y_pred, average='macro')\n",
    "print(\"Macro-averaged Duyarlılık (Recall):\", recall_macro)\n",
    "recall_weighted = recall_score(y_test, y_pred, average='weighted')\n",
    "print(\"Weighted-averaged Duyarlılık (Recall):\", recall_weighted)"
   ]
  },
  {
   "cell_type": "code",
   "execution_count": 72,
   "id": "1e6b0ad9-17fa-42a8-ae2b-60d8fb31b326",
   "metadata": {
    "tags": []
   },
   "outputs": [
    {
     "name": "stdout",
     "output_type": "stream",
     "text": [
      "Micro-averaged F1 Skoru: 0.7106184364060678\n",
      "Macro-averaged F1 Skoru: 0.6833832266375907\n",
      "Weighted-averaged F1 Skoru: 0.706823112424075\n"
     ]
    }
   ],
   "source": [
    "f1_micro = f1_score(y_test, y_pred, average='micro')\n",
    "print(\"Micro-averaged F1 Skoru:\", f1_micro)\n",
    "f1_macro = f1_score(y_test, y_pred, average='macro')\n",
    "print(\"Macro-averaged F1 Skoru:\", f1_macro)\n",
    "f1_weighted = f1_score(y_test, y_pred, average='weighted')\n",
    "print(\"Weighted-averaged F1 Skoru:\", f1_weighted)"
   ]
  },
  {
   "cell_type": "code",
   "execution_count": 73,
   "id": "083318f2-6518-4684-aa3c-bc8b4b8d21de",
   "metadata": {
    "tags": []
   },
   "outputs": [
    {
     "name": "stdout",
     "output_type": "stream",
     "text": [
      "Kappa İstatistiği: 0.5573101618382159\n"
     ]
    }
   ],
   "source": [
    "kappa = cohen_kappa_score(y_test, y_pred)\n",
    "print(\"Kappa İstatistiği:\", kappa)"
   ]
  },
  {
   "cell_type": "code",
   "execution_count": 74,
   "id": "5d4a6694-9d25-42e1-b911-8e9c3bea4183",
   "metadata": {
    "tags": []
   },
   "outputs": [],
   "source": [
    "cm = confusion_matrix(y_test, y_pred)"
   ]
  },
  {
   "cell_type": "code",
   "execution_count": 75,
   "id": "2229e0e9-11bc-4a35-91cf-f5f4ae566e94",
   "metadata": {
    "tags": []
   },
   "outputs": [
    {
     "data": {
      "text/plain": [
       "array([[1139,   51,  106],\n",
       "       [ 123,  881,  283],\n",
       "       [ 242,  187,  416]], dtype=int64)"
      ]
     },
     "execution_count": 75,
     "metadata": {},
     "output_type": "execute_result"
    }
   ],
   "source": [
    "cm"
   ]
  },
  {
   "cell_type": "code",
   "execution_count": 76,
   "id": "7e63dd0c-b38c-481e-b216-667a4ed50589",
   "metadata": {
    "tags": []
   },
   "outputs": [
    {
     "data": {
      "image/png": "[encoded data removed]",
      "text/plain": [
       "<Figure size 640x480 with 2 Axes>"
      ]
     },
     "metadata": {},
     "output_type": "display_data"
    }
   ],
   "source": [
    "sns.heatmap(cm, annot=True, fmt='d', cmap='Blues')\n",
    "plt.xlabel('Tahmin Edilen Etiketler')\n",
    "plt.ylabel('Gerçek Etiketler')\n",
    "plt.title('Confusion Matrix')\n",
    "plt.show()"
   ]
  },
  {
   "cell_type": "markdown",
   "id": "6df9be55-cc90-4ebe-bbb3-f3823e8ca288",
   "metadata": {},
   "source": [
    "#### Naive Bayes - BernoulliNB"
   ]
  },
  {
   "cell_type": "code",
   "execution_count": 77,
   "id": "89a25c6b-3398-4a64-a5f9-874274a27e0f",
   "metadata": {
    "tags": []
   },
   "outputs": [],
   "source": [
    "from sklearn.naive_bayes import BernoulliNB"
   ]
  },
  {
   "cell_type": "code",
   "execution_count": 78,
   "id": "19d0aacf-14d1-4c09-b9ae-f43959ccfa30",
   "metadata": {
    "tags": []
   },
   "outputs": [],
   "source": [
    "bernoulli_nb = BernoulliNB()"
   ]
  },
  {
   "cell_type": "code",
   "execution_count": 79,
   "id": "7756c3b6-a548-4960-9a1b-7d4680d4f863",
   "metadata": {
    "tags": []
   },
   "outputs": [
    {
     "data": {
      "text/html": [
       "<style>#sk-container-id-2 {color: black;}#sk-container-id-2 pre{padding: 0;}#sk-container-id-2 div.sk-toggleable {background-color: white;}#sk-container-id-2 label.sk-toggleable__label {cursor: pointer;display: block;width: 100%;margin-bottom: 0;padding: 0.3em;box-sizing: border-box;text-align: center;}#sk-container-id-2 label.sk-toggleable__label-arrow:before {content: \"▸\";float: left;margin-right: 0.25em;color: #696969;}#sk-container-id-2 label.sk-toggleable__label-arrow:hover:before {color: black;}#sk-container-id-2 div.sk-estimator:hover label.sk-toggleable__label-arrow:before {color: black;}#sk-container-id-2 div.sk-toggleable__content {max-height: 0;max-width: 0;overflow: hidden;text-align: left;background-color: #f0f8ff;}#sk-container-id-2 div.sk-toggleable__content pre {margin: 0.2em;color: black;border-radius: 0.25em;background-color: #f0f8ff;}#sk-container-id-2 input.sk-toggleable__control:checked~div.sk-toggleable__content {max-height: 200px;max-width: 100%;overflow: auto;}#sk-container-id-2 input.sk-toggleable__control:checked~label.sk-toggleable__label-arrow:before {content: \"▾\";}#sk-container-id-2 div.sk-estimator input.sk-toggleable__control:checked~label.sk-toggleable__label {background-color: #d4ebff;}#sk-container-id-2 div.sk-label input.sk-toggleable__control:checked~label.sk-toggleable__label {background-color: #d4ebff;}#sk-container-id-2 input.sk-hidden--visually {border: 0;clip: rect(1px 1px 1px 1px);clip: rect(1px, 1px, 1px, 1px);height: 1px;margin: -1px;overflow: hidden;padding: 0;position: absolute;width: 1px;}#sk-container-id-2 div.sk-estimator {font-family: monospace;background-color: #f0f8ff;border: 1px dotted black;border-radius: 0.25em;box-sizing: border-box;margin-bottom: 0.5em;}#sk-container-id-2 div.sk-estimator:hover {background-color: #d4ebff;}#sk-container-id-2 div.sk-parallel-item::after {content: \"\";width: 100%;border-bottom: 1px solid gray;flex-grow: 1;}#sk-container-id-2 div.sk-label:hover label.sk-toggleable__label {background-color: #d4ebff;}#sk-container-id-2 div.sk-serial::before {content: \"\";position: absolute;border-left: 1px solid gray;box-sizing: border-box;top: 0;bottom: 0;left: 50%;z-index: 0;}#sk-container-id-2 div.sk-serial {display: flex;flex-direction: column;align-items: center;background-color: white;padding-right: 0.2em;padding-left: 0.2em;position: relative;}#sk-container-id-2 div.sk-item {position: relative;z-index: 1;}#sk-container-id-2 div.sk-parallel {display: flex;align-items: stretch;justify-content: center;background-color: white;position: relative;}#sk-container-id-2 div.sk-item::before, #sk-container-id-2 div.sk-parallel-item::before {content: \"\";position: absolute;border-left: 1px solid gray;box-sizing: border-box;top: 0;bottom: 0;left: 50%;z-index: -1;}#sk-container-id-2 div.sk-parallel-item {display: flex;flex-direction: column;z-index: 1;position: relative;background-color: white;}#sk-container-id-2 div.sk-parallel-item:first-child::after {align-self: flex-end;width: 50%;}#sk-container-id-2 div.sk-parallel-item:last-child::after {align-self: flex-start;width: 50%;}#sk-container-id-2 div.sk-parallel-item:only-child::after {width: 0;}#sk-container-id-2 div.sk-dashed-wrapped {border: 1px dashed gray;margin: 0 0.4em 0.5em 0.4em;box-sizing: border-box;padding-bottom: 0.4em;background-color: white;}#sk-container-id-2 div.sk-label label {font-family: monospace;font-weight: bold;display: inline-block;line-height: 1.2em;}#sk-container-id-2 div.sk-label-container {text-align: center;}#sk-container-id-2 div.sk-container {/* jupyter's `normalize.less` sets `[hidden] { display: none; }` but bootstrap.min.css set `[hidden] { display: none !important; }` so we also need the `!important` here to be able to override the default hidden behavior on the sphinx rendered scikit-learn.org. See: https://github.com/scikit-learn/scikit-learn/issues/21755 */display: inline-block !important;position: relative;}#sk-container-id-2 div.sk-text-repr-fallback {display: none;}</style><div id=\"sk-container-id-2\" class=\"sk-top-container\"><div class=\"sk-text-repr-fallback\"><pre>BernoulliNB()</pre><b>In a Jupyter environment, please rerun this cell to show the HTML representation or trust the notebook. <br />On GitHub, the HTML representation is unable to render, please try loading this page with nbviewer.org.</b></div><div class=\"sk-container\" hidden><div class=\"sk-item\"><div class=\"sk-estimator sk-toggleable\"><input class=\"sk-toggleable__control sk-hidden--visually\" id=\"sk-estimator-id-2\" type=\"checkbox\" checked><label for=\"sk-estimator-id-2\" class=\"sk-toggleable__label sk-toggleable__label-arrow\">BernoulliNB</label><div class=\"sk-toggleable__content\"><pre>BernoulliNB()</pre></div></div></div></div></div>"
      ],
      "text/plain": [
       "BernoulliNB()"
      ]
     },
     "execution_count": 79,
     "metadata": {},
     "output_type": "execute_result"
    }
   ],
   "source": [
    "bernoulli_nb.fit(train_x1, train_y1)"
   ]
  },
  {
   "cell_type": "code",
   "execution_count": 80,
   "id": "a8f10fb5-1e8f-4687-a276-2a87258af4ae",
   "metadata": {
    "tags": []
   },
   "outputs": [],
   "source": [
    "test_x1 = vectorizer.transform(X_test)"
   ]
  },
  {
   "cell_type": "code",
   "execution_count": 81,
   "id": "1c10c81e-32fd-44c8-8bf0-849b9923d1ab",
   "metadata": {
    "tags": []
   },
   "outputs": [],
   "source": [
    "y_pred = bernoulli_nb.predict(test_x1)"
   ]
  },
  {
   "cell_type": "code",
   "execution_count": 82,
   "id": "a4d0d47c-af33-473a-b4f5-bfb94d7d6807",
   "metadata": {
    "tags": []
   },
   "outputs": [
    {
     "name": "stdout",
     "output_type": "stream",
     "text": [
      "Bernoulli Naive Bayes Doğruluk Skoru: 0.6496499416569428\n"
     ]
    }
   ],
   "source": [
    "accuracy = accuracy_score(y_test, y_pred)\n",
    "print(\"Bernoulli Naive Bayes Doğruluk Skoru:\", accuracy)"
   ]
  },
  {
   "cell_type": "code",
   "execution_count": 83,
   "id": "05803414-1c62-4eff-a14c-8ca97eb42910",
   "metadata": {
    "tags": []
   },
   "outputs": [
    {
     "name": "stdout",
     "output_type": "stream",
     "text": [
      "Micro-averaged Hassasiyet (Precision): 0.6496499416569428\n",
      "Macro-averaged Hassasiyet (Precision): 0.6424623109521811\n",
      "Weighted-averaged Hassasiyet (Precision): 0.6588929428090031\n"
     ]
    }
   ],
   "source": [
    "precision_micro = precision_score(y_test, y_pred, average='micro')\n",
    "print(\"Micro-averaged Hassasiyet (Precision):\", precision_micro)\n",
    "precision_macro = precision_score(y_test, y_pred, average='macro')\n",
    "print(\"Macro-averaged Hassasiyet (Precision):\", precision_macro)\n",
    "precision_weighted = precision_score(y_test, y_pred, average='weighted')\n",
    "print(\"Weighted-averaged Hassasiyet (Precision):\", precision_weighted)"
   ]
  },
  {
   "cell_type": "code",
   "execution_count": 84,
   "id": "5d8e6c24-2628-4c9a-bcd0-e228bef4ed84",
   "metadata": {
    "tags": []
   },
   "outputs": [
    {
     "name": "stdout",
     "output_type": "stream",
     "text": [
      "Micro-averaged Duyarlılık (Recall): 0.6496499416569428\n",
      "Macro-averaged Duyarlılık (Recall): 0.6178230640837479\n",
      "Weighted-averaged Duyarlılık (Recall): 0.6496499416569428\n"
     ]
    }
   ],
   "source": [
    "recall_micro = recall_score(y_test, y_pred, average='micro')\n",
    "print(\"Micro-averaged Duyarlılık (Recall):\", recall_micro)\n",
    "recall_macro = recall_score(y_test, y_pred, average='macro')\n",
    "print(\"Macro-averaged Duyarlılık (Recall):\", recall_macro)\n",
    "recall_weighted = recall_score(y_test, y_pred, average='weighted')\n",
    "print(\"Weighted-averaged Duyarlılık (Recall):\", recall_weighted)"
   ]
  },
  {
   "cell_type": "code",
   "execution_count": 85,
   "id": "86fa0896-1331-40a7-8c41-937b69a18b65",
   "metadata": {
    "tags": []
   },
   "outputs": [
    {
     "name": "stdout",
     "output_type": "stream",
     "text": [
      "Micro-averaged F1 Skoru: 0.6496499416569428\n",
      "Macro-averaged F1 Skoru: 0.6143636504672004\n",
      "Weighted-averaged F1 Skoru: 0.6378224462369901\n"
     ]
    }
   ],
   "source": [
    "f1_micro = f1_score(y_test, y_pred, average='micro')\n",
    "print(\"Micro-averaged F1 Skoru:\", f1_micro)\n",
    "f1_macro = f1_score(y_test, y_pred, average='macro')\n",
    "print(\"Macro-averaged F1 Skoru:\", f1_macro)\n",
    "f1_weighted = f1_score(y_test, y_pred, average='weighted')\n",
    "print(\"Weighted-averaged F1 Skoru:\", f1_weighted)"
   ]
  },
  {
   "cell_type": "code",
   "execution_count": 86,
   "id": "8cec7c71-9e86-4352-ac32-6dfaf8c6a0d0",
   "metadata": {
    "tags": []
   },
   "outputs": [
    {
     "name": "stdout",
     "output_type": "stream",
     "text": [
      "Kappa İstatistiği: 0.4579952463991882\n"
     ]
    }
   ],
   "source": [
    "kappa = cohen_kappa_score(y_test, y_pred)\n",
    "print(\"Kappa İstatistiği:\", kappa)"
   ]
  },
  {
   "cell_type": "code",
   "execution_count": 87,
   "id": "a5fa6740-c37b-4331-bc2e-070be6b15a05",
   "metadata": {
    "tags": []
   },
   "outputs": [
    {
     "name": "stdout",
     "output_type": "stream",
     "text": [
      "Bernoulli Naive Bayes Karışıklık Matrisi:\n",
      "[[1141   47  108]\n",
      " [ 327  768  192]\n",
      " [ 374  153  318]]\n"
     ]
    }
   ],
   "source": [
    "cm = confusion_matrix(y_test, y_pred)\n",
    "print(\"Bernoulli Naive Bayes Karışıklık Matrisi:\")\n",
    "print(cm)"
   ]
  },
  {
   "cell_type": "code",
   "execution_count": 88,
   "id": "2c0dce90-b144-4bb2-837b-4dec87205666",
   "metadata": {
    "tags": []
   },
   "outputs": [
    {
     "data": {
      "image/png": "[encoded data removed]",
      "text/plain": [
       "<Figure size 640x480 with 2 Axes>"
      ]
     },
     "metadata": {},
     "output_type": "display_data"
    }
   ],
   "source": [
    "sns.heatmap(cm, annot=True, fmt='d', cmap='Blues')\n",
    "plt.xlabel('Tahmin Edilen Etiketler')\n",
    "plt.ylabel('Gerçek Etiketler')\n",
    "plt.title('Confusion Matrix')\n",
    "plt.show()"
   ]
  },
  {
   "cell_type": "markdown",
   "id": "5058f990-6ecb-4fa4-a98d-0e1137ff5790",
   "metadata": {},
   "source": [
    "#### Naive Bayes - GaussianNB"
   ]
  },
  {
   "cell_type": "code",
   "execution_count": 89,
   "id": "5935d351-b667-43f8-ad8d-bbb6a82deab6",
   "metadata": {
    "tags": []
   },
   "outputs": [],
   "source": [
    "from sklearn.naive_bayes import GaussianNB"
   ]
  },
  {
   "cell_type": "code",
   "execution_count": 90,
   "id": "8b818371-3a0f-41b6-9233-932bc6ebf693",
   "metadata": {
    "tags": []
   },
   "outputs": [],
   "source": [
    "gaussian_nb = GaussianNB()"
   ]
  },
  {
   "cell_type": "code",
   "execution_count": 91,
   "id": "44743cba-36eb-4b25-8e70-3b6ba998914e",
   "metadata": {
    "tags": []
   },
   "outputs": [
    {
     "data": {
      "text/html": [
       "<style>#sk-container-id-3 {color: black;}#sk-container-id-3 pre{padding: 0;}#sk-container-id-3 div.sk-toggleable {background-color: white;}#sk-container-id-3 label.sk-toggleable__label {cursor: pointer;display: block;width: 100%;margin-bottom: 0;padding: 0.3em;box-sizing: border-box;text-align: center;}#sk-container-id-3 label.sk-toggleable__label-arrow:before {content: \"▸\";float: left;margin-right: 0.25em;color: #696969;}#sk-container-id-3 label.sk-toggleable__label-arrow:hover:before {color: black;}#sk-container-id-3 div.sk-estimator:hover label.sk-toggleable__label-arrow:before {color: black;}#sk-container-id-3 div.sk-toggleable__content {max-height: 0;max-width: 0;overflow: hidden;text-align: left;background-color: #f0f8ff;}#sk-container-id-3 div.sk-toggleable__content pre {margin: 0.2em;color: black;border-radius: 0.25em;background-color: #f0f8ff;}#sk-container-id-3 input.sk-toggleable__control:checked~div.sk-toggleable__content {max-height: 200px;max-width: 100%;overflow: auto;}#sk-container-id-3 input.sk-toggleable__control:checked~label.sk-toggleable__label-arrow:before {content: \"▾\";}#sk-container-id-3 div.sk-estimator input.sk-toggleable__control:checked~label.sk-toggleable__label {background-color: #d4ebff;}#sk-container-id-3 div.sk-label input.sk-toggleable__control:checked~label.sk-toggleable__label {background-color: #d4ebff;}#sk-container-id-3 input.sk-hidden--visually {border: 0;clip: rect(1px 1px 1px 1px);clip: rect(1px, 1px, 1px, 1px);height: 1px;margin: -1px;overflow: hidden;padding: 0;position: absolute;width: 1px;}#sk-container-id-3 div.sk-estimator {font-family: monospace;background-color: #f0f8ff;border: 1px dotted black;border-radius: 0.25em;box-sizing: border-box;margin-bottom: 0.5em;}#sk-container-id-3 div.sk-estimator:hover {background-color: #d4ebff;}#sk-container-id-3 div.sk-parallel-item::after {content: \"\";width: 100%;border-bottom: 1px solid gray;flex-grow: 1;}#sk-container-id-3 div.sk-label:hover label.sk-toggleable__label {background-color: #d4ebff;}#sk-container-id-3 div.sk-serial::before {content: \"\";position: absolute;border-left: 1px solid gray;box-sizing: border-box;top: 0;bottom: 0;left: 50%;z-index: 0;}#sk-container-id-3 div.sk-serial {display: flex;flex-direction: column;align-items: center;background-color: white;padding-right: 0.2em;padding-left: 0.2em;position: relative;}#sk-container-id-3 div.sk-item {position: relative;z-index: 1;}#sk-container-id-3 div.sk-parallel {display: flex;align-items: stretch;justify-content: center;background-color: white;position: relative;}#sk-container-id-3 div.sk-item::before, #sk-container-id-3 div.sk-parallel-item::before {content: \"\";position: absolute;border-left: 1px solid gray;box-sizing: border-box;top: 0;bottom: 0;left: 50%;z-index: -1;}#sk-container-id-3 div.sk-parallel-item {display: flex;flex-direction: column;z-index: 1;position: relative;background-color: white;}#sk-container-id-3 div.sk-parallel-item:first-child::after {align-self: flex-end;width: 50%;}#sk-container-id-3 div.sk-parallel-item:last-child::after {align-self: flex-start;width: 50%;}#sk-container-id-3 div.sk-parallel-item:only-child::after {width: 0;}#sk-container-id-3 div.sk-dashed-wrapped {border: 1px dashed gray;margin: 0 0.4em 0.5em 0.4em;box-sizing: border-box;padding-bottom: 0.4em;background-color: white;}#sk-container-id-3 div.sk-label label {font-family: monospace;font-weight: bold;display: inline-block;line-height: 1.2em;}#sk-container-id-3 div.sk-label-container {text-align: center;}#sk-container-id-3 div.sk-container {/* jupyter's `normalize.less` sets `[hidden] { display: none; }` but bootstrap.min.css set `[hidden] { display: none !important; }` so we also need the `!important` here to be able to override the default hidden behavior on the sphinx rendered scikit-learn.org. See: https://github.com/scikit-learn/scikit-learn/issues/21755 */display: inline-block !important;position: relative;}#sk-container-id-3 div.sk-text-repr-fallback {display: none;}</style><div id=\"sk-container-id-3\" class=\"sk-top-container\"><div class=\"sk-text-repr-fallback\"><pre>GaussianNB()</pre><b>In a Jupyter environment, please rerun this cell to show the HTML representation or trust the notebook. <br />On GitHub, the HTML representation is unable to render, please try loading this page with nbviewer.org.</b></div><div class=\"sk-container\" hidden><div class=\"sk-item\"><div class=\"sk-estimator sk-toggleable\"><input class=\"sk-toggleable__control sk-hidden--visually\" id=\"sk-estimator-id-3\" type=\"checkbox\" checked><label for=\"sk-estimator-id-3\" class=\"sk-toggleable__label sk-toggleable__label-arrow\">GaussianNB</label><div class=\"sk-toggleable__content\"><pre>GaussianNB()</pre></div></div></div></div></div>"
      ],
      "text/plain": [
       "GaussianNB()"
      ]
     },
     "execution_count": 91,
     "metadata": {},
     "output_type": "execute_result"
    }
   ],
   "source": [
    "gaussian_nb.fit(train_x1, train_y1)"
   ]
  },
  {
   "cell_type": "code",
   "execution_count": 92,
   "id": "0047df0c-887a-4c82-87b3-fb22ce07b0a8",
   "metadata": {
    "tags": []
   },
   "outputs": [],
   "source": [
    "test_x1 = vectorizer.transform(X_test)"
   ]
  },
  {
   "cell_type": "code",
   "execution_count": 93,
   "id": "8b1e99ae-08e7-4d99-a074-64fd5b1bd328",
   "metadata": {
    "tags": []
   },
   "outputs": [],
   "source": [
    "y_pred = gaussian_nb.predict(test_x1.toarray())"
   ]
  },
  {
   "cell_type": "code",
   "execution_count": 94,
   "id": "84cf4f47-6516-4081-874d-5d95843cd6cc",
   "metadata": {
    "tags": []
   },
   "outputs": [
    {
     "name": "stdout",
     "output_type": "stream",
     "text": [
      "Gaussian Naive Bayes Doğruluk Skoru: 0.49970828471411904\n"
     ]
    }
   ],
   "source": [
    "accuracy = accuracy_score(y_test, y_pred)\n",
    "print(\"Gaussian Naive Bayes Doğruluk Skoru:\", accuracy)"
   ]
  },
  {
   "cell_type": "code",
   "execution_count": 95,
   "id": "7f90e2e4-f6bf-4301-ba86-42793fdd8afe",
   "metadata": {
    "tags": []
   },
   "outputs": [
    {
     "name": "stdout",
     "output_type": "stream",
     "text": [
      "Micro-averaged Hassasiyet (Precision): 0.49970828471411904\n",
      "Macro-averaged Hassasiyet (Precision): 0.5031370764797446\n",
      "Weighted-averaged Hassasiyet (Precision): 0.5253633009912099\n"
     ]
    }
   ],
   "source": [
    "precision_micro = precision_score(y_test, y_pred, average='micro')\n",
    "print(\"Micro-averaged Hassasiyet (Precision):\", precision_micro)\n",
    "precision_macro = precision_score(y_test, y_pred, average='macro')\n",
    "print(\"Macro-averaged Hassasiyet (Precision):\", precision_macro)\n",
    "precision_weighted = precision_score(y_test, y_pred, average='weighted')\n",
    "print(\"Weighted-averaged Hassasiyet (Precision):\", precision_weighted)"
   ]
  },
  {
   "cell_type": "code",
   "execution_count": 96,
   "id": "85b33ac7-89ee-467f-a821-751b8f8f5f23",
   "metadata": {
    "tags": []
   },
   "outputs": [
    {
     "name": "stdout",
     "output_type": "stream",
     "text": [
      "Micro-averaged Duyarlılık (Recall): 0.49970828471411904\n",
      "Macro-averaged Duyarlılık (Recall): 0.4807135567819329\n",
      "Weighted-averaged Duyarlılık (Recall): 0.49970828471411904\n"
     ]
    }
   ],
   "source": [
    "recall_micro = recall_score(y_test, y_pred, average='micro')\n",
    "print(\"Micro-averaged Duyarlılık (Recall):\", recall_micro)\n",
    "recall_macro = recall_score(y_test, y_pred, average='macro')\n",
    "print(\"Macro-averaged Duyarlılık (Recall):\", recall_macro)\n",
    "recall_weighted = recall_score(y_test, y_pred, average='weighted')\n",
    "print(\"Weighted-averaged Duyarlılık (Recall):\", recall_weighted)"
   ]
  },
  {
   "cell_type": "code",
   "execution_count": 97,
   "id": "f2877884-7d19-45f6-a606-d2988bfd3de4",
   "metadata": {
    "tags": []
   },
   "outputs": [
    {
     "name": "stdout",
     "output_type": "stream",
     "text": [
      "Micro-averaged F1 Skoru: 0.49970828471411904\n",
      "Macro-averaged F1 Skoru: 0.4525044128742908\n",
      "Weighted-averaged F1 Skoru: 0.46805252866144487\n"
     ]
    }
   ],
   "source": [
    "f1_micro = f1_score(y_test, y_pred, average='micro')\n",
    "print(\"Micro-averaged F1 Skoru:\", f1_micro)\n",
    "f1_macro = f1_score(y_test, y_pred, average='macro')\n",
    "print(\"Macro-averaged F1 Skoru:\", f1_macro)\n",
    "f1_weighted = f1_score(y_test, y_pred, average='weighted')\n",
    "print(\"Weighted-averaged F1 Skoru:\", f1_weighted)"
   ]
  },
  {
   "cell_type": "code",
   "execution_count": 98,
   "id": "046c4861-275a-48a9-8130-a449fba125b6",
   "metadata": {
    "tags": []
   },
   "outputs": [
    {
     "name": "stdout",
     "output_type": "stream",
     "text": [
      "Kappa İstatistiği: 0.2369886501312196\n"
     ]
    }
   ],
   "source": [
    "kappa = cohen_kappa_score(y_test, y_pred)\n",
    "print(\"Kappa İstatistiği:\", kappa)"
   ]
  },
  {
   "cell_type": "code",
   "execution_count": 99,
   "id": "89acbb33-7866-4823-878f-d71205493240",
   "metadata": {
    "tags": []
   },
   "outputs": [
    {
     "name": "stdout",
     "output_type": "stream",
     "text": [
      "Gaussian Naive Bayes Karışıklık Matrisi:\n",
      "[[1096   61  139]\n",
      " [ 516  329  442]\n",
      " [ 435  122  288]]\n"
     ]
    }
   ],
   "source": [
    "cm = confusion_matrix(y_test, y_pred)\n",
    "print(\"Gaussian Naive Bayes Karışıklık Matrisi:\")\n",
    "print(cm)"
   ]
  },
  {
   "cell_type": "code",
   "execution_count": 100,
   "id": "08293235-e36e-4511-af18-423883bb8057",
   "metadata": {
    "tags": []
   },
   "outputs": [
    {
     "data": {
      "image/png": "[encoded data removed]",
      "text/plain": [
       "<Figure size 640x480 with 2 Axes>"
      ]
     },
     "metadata": {},
     "output_type": "display_data"
    }
   ],
   "source": [
    "sns.heatmap(cm, annot=True, fmt='d', cmap='Blues')\n",
    "plt.xlabel('Tahmin Edilen Etiketler')\n",
    "plt.ylabel('Gerçek Etiketler')\n",
    "plt.title('Confusion Matrix')\n",
    "plt.show()"
   ]
  },
  {
   "cell_type": "markdown",
   "id": "ec4c6bce-a7ae-405e-898d-d0d5fe26da31",
   "metadata": {
    "tags": []
   },
   "source": [
    "### Logistic Regression"
   ]
  },
  {
   "cell_type": "code",
   "execution_count": 101,
   "id": "8e01f48f-3a58-416f-8168-acf636ee04e1",
   "metadata": {
    "tags": []
   },
   "outputs": [],
   "source": [
    "from sklearn.linear_model import LogisticRegression"
   ]
  },
  {
   "cell_type": "code",
   "execution_count": 102,
   "id": "86bc80b4-4be9-43f5-88c4-2bb70736090e",
   "metadata": {
    "tags": []
   },
   "outputs": [],
   "source": [
    "logistic_regression = LogisticRegression(max_iter=1000)"
   ]
  },
  {
   "cell_type": "code",
   "execution_count": 103,
   "id": "a95cfb6d-f39f-4f2e-81bf-66d6e243f117",
   "metadata": {
    "tags": []
   },
   "outputs": [
    {
     "data": {
      "text/html": [
       "<style>#sk-container-id-4 {color: black;}#sk-container-id-4 pre{padding: 0;}#sk-container-id-4 div.sk-toggleable {background-color: white;}#sk-container-id-4 label.sk-toggleable__label {cursor: pointer;display: block;width: 100%;margin-bottom: 0;padding: 0.3em;box-sizing: border-box;text-align: center;}#sk-container-id-4 label.sk-toggleable__label-arrow:before {content: \"▸\";float: left;margin-right: 0.25em;color: #696969;}#sk-container-id-4 label.sk-toggleable__label-arrow:hover:before {color: black;}#sk-container-id-4 div.sk-estimator:hover label.sk-toggleable__label-arrow:before {color: black;}#sk-container-id-4 div.sk-toggleable__content {max-height: 0;max-width: 0;overflow: hidden;text-align: left;background-color: #f0f8ff;}#sk-container-id-4 div.sk-toggleable__content pre {margin: 0.2em;color: black;border-radius: 0.25em;background-color: #f0f8ff;}#sk-container-id-4 input.sk-toggleable__control:checked~div.sk-toggleable__content {max-height: 200px;max-width: 100%;overflow: auto;}#sk-container-id-4 input.sk-toggleable__control:checked~label.sk-toggleable__label-arrow:before {content: \"▾\";}#sk-container-id-4 div.sk-estimator input.sk-toggleable__control:checked~label.sk-toggleable__label {background-color: #d4ebff;}#sk-container-id-4 div.sk-label input.sk-toggleable__control:checked~label.sk-toggleable__label {background-color: #d4ebff;}#sk-container-id-4 input.sk-hidden--visually {border: 0;clip: rect(1px 1px 1px 1px);clip: rect(1px, 1px, 1px, 1px);height: 1px;margin: -1px;overflow: hidden;padding: 0;position: absolute;width: 1px;}#sk-container-id-4 div.sk-estimator {font-family: monospace;background-color: #f0f8ff;border: 1px dotted black;border-radius: 0.25em;box-sizing: border-box;margin-bottom: 0.5em;}#sk-container-id-4 div.sk-estimator:hover {background-color: #d4ebff;}#sk-container-id-4 div.sk-parallel-item::after {content: \"\";width: 100%;border-bottom: 1px solid gray;flex-grow: 1;}#sk-container-id-4 div.sk-label:hover label.sk-toggleable__label {background-color: #d4ebff;}#sk-container-id-4 div.sk-serial::before {content: \"\";position: absolute;border-left: 1px solid gray;box-sizing: border-box;top: 0;bottom: 0;left: 50%;z-index: 0;}#sk-container-id-4 div.sk-serial {display: flex;flex-direction: column;align-items: center;background-color: white;padding-right: 0.2em;padding-left: 0.2em;position: relative;}#sk-container-id-4 div.sk-item {position: relative;z-index: 1;}#sk-container-id-4 div.sk-parallel {display: flex;align-items: stretch;justify-content: center;background-color: white;position: relative;}#sk-container-id-4 div.sk-item::before, #sk-container-id-4 div.sk-parallel-item::before {content: \"\";position: absolute;border-left: 1px solid gray;box-sizing: border-box;top: 0;bottom: 0;left: 50%;z-index: -1;}#sk-container-id-4 div.sk-parallel-item {display: flex;flex-direction: column;z-index: 1;position: relative;background-color: white;}#sk-container-id-4 div.sk-parallel-item:first-child::after {align-self: flex-end;width: 50%;}#sk-container-id-4 div.sk-parallel-item:last-child::after {align-self: flex-start;width: 50%;}#sk-container-id-4 div.sk-parallel-item:only-child::after {width: 0;}#sk-container-id-4 div.sk-dashed-wrapped {border: 1px dashed gray;margin: 0 0.4em 0.5em 0.4em;box-sizing: border-box;padding-bottom: 0.4em;background-color: white;}#sk-container-id-4 div.sk-label label {font-family: monospace;font-weight: bold;display: inline-block;line-height: 1.2em;}#sk-container-id-4 div.sk-label-container {text-align: center;}#sk-container-id-4 div.sk-container {/* jupyter's `normalize.less` sets `[hidden] { display: none; }` but bootstrap.min.css set `[hidden] { display: none !important; }` so we also need the `!important` here to be able to override the default hidden behavior on the sphinx rendered scikit-learn.org. See: https://github.com/scikit-learn/scikit-learn/issues/21755 */display: inline-block !important;position: relative;}#sk-container-id-4 div.sk-text-repr-fallback {display: none;}</style><div id=\"sk-container-id-4\" class=\"sk-top-container\"><div class=\"sk-text-repr-fallback\"><pre>LogisticRegression(max_iter=1000)</pre><b>In a Jupyter environment, please rerun this cell to show the HTML representation or trust the notebook. <br />On GitHub, the HTML representation is unable to render, please try loading this page with nbviewer.org.</b></div><div class=\"sk-container\" hidden><div class=\"sk-item\"><div class=\"sk-estimator sk-toggleable\"><input class=\"sk-toggleable__control sk-hidden--visually\" id=\"sk-estimator-id-4\" type=\"checkbox\" checked><label for=\"sk-estimator-id-4\" class=\"sk-toggleable__label sk-toggleable__label-arrow\">LogisticRegression</label><div class=\"sk-toggleable__content\"><pre>LogisticRegression(max_iter=1000)</pre></div></div></div></div></div>"
      ],
      "text/plain": [
       "LogisticRegression(max_iter=1000)"
      ]
     },
     "execution_count": 103,
     "metadata": {},
     "output_type": "execute_result"
    }
   ],
   "source": [
    "logistic_regression.fit(train_x1, train_y1)"
   ]
  },
  {
   "cell_type": "code",
   "execution_count": 104,
   "id": "fb03f5b8-30cc-486e-a9e2-4d4ee35b4754",
   "metadata": {
    "tags": []
   },
   "outputs": [],
   "source": [
    "test_x1 = vectorizer.transform(X_test)"
   ]
  },
  {
   "cell_type": "code",
   "execution_count": 105,
   "id": "5c83064d-a625-4544-8d9c-9db033f81758",
   "metadata": {
    "tags": []
   },
   "outputs": [],
   "source": [
    "y_pred = logistic_regression.predict(test_x1)"
   ]
  },
  {
   "cell_type": "code",
   "execution_count": 106,
   "id": "6657cc6e-e047-4e6f-8d10-0738e8ab238e",
   "metadata": {
    "tags": []
   },
   "outputs": [
    {
     "name": "stdout",
     "output_type": "stream",
     "text": [
      "Doğruluk Skoru: 0.6960326721120187\n"
     ]
    }
   ],
   "source": [
    "accuracy = accuracy_score(y_test, y_pred)\n",
    "print(\"Doğruluk Skoru:\", accuracy)"
   ]
  },
  {
   "cell_type": "code",
   "execution_count": 107,
   "id": "461e7591-c017-4cf0-845c-d3f28e2eeeb6",
   "metadata": {
    "tags": []
   },
   "outputs": [
    {
     "name": "stdout",
     "output_type": "stream",
     "text": [
      "Micro-averaged Hassasiyet (Precision): 0.6960326721120187\n",
      "Macro-averaged Hassasiyet (Precision): 0.6663639878540695\n",
      "Weighted-averaged Hassasiyet (Precision): 0.6871722747227121\n"
     ]
    }
   ],
   "source": [
    "precision_micro = precision_score(y_test, y_pred, average='micro')\n",
    "print(\"Micro-averaged Hassasiyet (Precision):\", precision_micro)\n",
    "precision_macro = precision_score(y_test, y_pred, average='macro')\n",
    "print(\"Macro-averaged Hassasiyet (Precision):\", precision_macro)\n",
    "precision_weighted = precision_score(y_test, y_pred, average='weighted')\n",
    "print(\"Weighted-averaged Hassasiyet (Precision):\", precision_weighted)"
   ]
  },
  {
   "cell_type": "code",
   "execution_count": 108,
   "id": "6e9a8aa5-bb8a-4ca0-bcbb-dc30082288bc",
   "metadata": {
    "tags": []
   },
   "outputs": [
    {
     "name": "stdout",
     "output_type": "stream",
     "text": [
      "Micro-averaged Duyarlılık (Recall): 0.6960326721120187\n",
      "Macro-averaged Duyarlılık (Recall): 0.6657719812634343\n",
      "Weighted-averaged Duyarlılık (Recall): 0.6960326721120187\n"
     ]
    }
   ],
   "source": [
    "recall_micro = recall_score(y_test, y_pred, average='micro')\n",
    "print(\"Micro-averaged Duyarlılık (Recall):\", recall_micro)\n",
    "recall_macro = recall_score(y_test, y_pred, average='macro')\n",
    "print(\"Macro-averaged Duyarlılık (Recall):\", recall_macro)\n",
    "recall_weighted = recall_score(y_test, y_pred, average='weighted')\n",
    "print(\"Weighted-averaged Duyarlılık (Recall):\", recall_weighted)"
   ]
  },
  {
   "cell_type": "code",
   "execution_count": 109,
   "id": "3f9efb1d-2052-4ee9-815e-e8f77b497c5b",
   "metadata": {
    "tags": []
   },
   "outputs": [
    {
     "name": "stdout",
     "output_type": "stream",
     "text": [
      "Micro-averaged F1 Skoru: 0.6960326721120187\n",
      "Macro-averaged F1 Skoru: 0.6646993402906703\n",
      "Weighted-averaged F1 Skoru: 0.6904184480057027\n"
     ]
    }
   ],
   "source": [
    "f1_micro = f1_score(y_test, y_pred, average='micro')\n",
    "print(\"Micro-averaged F1 Skoru:\", f1_micro)\n",
    "f1_macro = f1_score(y_test, y_pred, average='macro')\n",
    "print(\"Macro-averaged F1 Skoru:\", f1_macro)\n",
    "f1_weighted = f1_score(y_test, y_pred, average='weighted')\n",
    "print(\"Weighted-averaged F1 Skoru:\", f1_weighted)"
   ]
  },
  {
   "cell_type": "code",
   "execution_count": 110,
   "id": "89910d6e-2900-4571-ad5b-2bcacebe79b2",
   "metadata": {
    "tags": []
   },
   "outputs": [
    {
     "name": "stdout",
     "output_type": "stream",
     "text": [
      "Kappa İstatistiği: 0.5328741991164567\n"
     ]
    }
   ],
   "source": [
    "kappa = cohen_kappa_score(y_test, y_pred)\n",
    "print(\"Kappa İstatistiği:\", kappa)"
   ]
  },
  {
   "cell_type": "code",
   "execution_count": 111,
   "id": "e752c7a7-2e0a-4a73-860d-d6bcbec19541",
   "metadata": {
    "tags": []
   },
   "outputs": [
    {
     "name": "stdout",
     "output_type": "stream",
     "text": [
      "Karışıklık Matrisi:\n",
      "[[1069  104  123]\n",
      " [ 103  950  234]\n",
      " [ 233  245  367]]\n"
     ]
    }
   ],
   "source": [
    "cm = confusion_matrix(y_test, y_pred)\n",
    "print(\"Karışıklık Matrisi:\")\n",
    "print(cm)"
   ]
  },
  {
   "cell_type": "code",
   "execution_count": 112,
   "id": "a5fabc44-0007-46e1-b8c5-7631c2a89cf7",
   "metadata": {
    "tags": []
   },
   "outputs": [
    {
     "data": {
      "image/png": "[encoded data removed]",
      "text/plain": [
       "<Figure size 640x480 with 2 Axes>"
      ]
     },
     "metadata": {},
     "output_type": "display_data"
    }
   ],
   "source": [
    "sns.heatmap(cm, annot=True, fmt='d', cmap='Blues')\n",
    "plt.xlabel('Tahmin Edilen Etiketler')\n",
    "plt.ylabel('Gerçek Etiketler')\n",
    "plt.title('Confusion Matrix')\n",
    "plt.show()"
   ]
  },
  {
   "cell_type": "markdown",
   "id": "e1181dfa-6466-496e-b93b-8698f7ad67ec",
   "metadata": {},
   "source": [
    "### Decission Tree Classifier"
   ]
  },
  {
   "cell_type": "code",
   "execution_count": 113,
   "id": "9277a6a1-f51d-4788-8918-f0b00ccf2a72",
   "metadata": {
    "tags": []
   },
   "outputs": [],
   "source": [
    "from sklearn.tree import DecisionTreeClassifier"
   ]
  },
  {
   "cell_type": "code",
   "execution_count": 114,
   "id": "7fc6608b-32e3-43f4-9b3e-5abd8ef3e441",
   "metadata": {
    "tags": []
   },
   "outputs": [],
   "source": [
    "decision_tree = DecisionTreeClassifier()"
   ]
  },
  {
   "cell_type": "code",
   "execution_count": 115,
   "id": "3aa8d639-8dab-4e6f-84e3-86f01bf5dad6",
   "metadata": {
    "tags": []
   },
   "outputs": [
    {
     "data": {
      "text/html": [
       "<style>#sk-container-id-5 {color: black;}#sk-container-id-5 pre{padding: 0;}#sk-container-id-5 div.sk-toggleable {background-color: white;}#sk-container-id-5 label.sk-toggleable__label {cursor: pointer;display: block;width: 100%;margin-bottom: 0;padding: 0.3em;box-sizing: border-box;text-align: center;}#sk-container-id-5 label.sk-toggleable__label-arrow:before {content: \"▸\";float: left;margin-right: 0.25em;color: #696969;}#sk-container-id-5 label.sk-toggleable__label-arrow:hover:before {color: black;}#sk-container-id-5 div.sk-estimator:hover label.sk-toggleable__label-arrow:before {color: black;}#sk-container-id-5 div.sk-toggleable__content {max-height: 0;max-width: 0;overflow: hidden;text-align: left;background-color: #f0f8ff;}#sk-container-id-5 div.sk-toggleable__content pre {margin: 0.2em;color: black;border-radius: 0.25em;background-color: #f0f8ff;}#sk-container-id-5 input.sk-toggleable__control:checked~div.sk-toggleable__content {max-height: 200px;max-width: 100%;overflow: auto;}#sk-container-id-5 input.sk-toggleable__control:checked~label.sk-toggleable__label-arrow:before {content: \"▾\";}#sk-container-id-5 div.sk-estimator input.sk-toggleable__control:checked~label.sk-toggleable__label {background-color: #d4ebff;}#sk-container-id-5 div.sk-label input.sk-toggleable__control:checked~label.sk-toggleable__label {background-color: #d4ebff;}#sk-container-id-5 input.sk-hidden--visually {border: 0;clip: rect(1px 1px 1px 1px);clip: rect(1px, 1px, 1px, 1px);height: 1px;margin: -1px;overflow: hidden;padding: 0;position: absolute;width: 1px;}#sk-container-id-5 div.sk-estimator {font-family: monospace;background-color: #f0f8ff;border: 1px dotted black;border-radius: 0.25em;box-sizing: border-box;margin-bottom: 0.5em;}#sk-container-id-5 div.sk-estimator:hover {background-color: #d4ebff;}#sk-container-id-5 div.sk-parallel-item::after {content: \"\";width: 100%;border-bottom: 1px solid gray;flex-grow: 1;}#sk-container-id-5 div.sk-label:hover label.sk-toggleable__label {background-color: #d4ebff;}#sk-container-id-5 div.sk-serial::before {content: \"\";position: absolute;border-left: 1px solid gray;box-sizing: border-box;top: 0;bottom: 0;left: 50%;z-index: 0;}#sk-container-id-5 div.sk-serial {display: flex;flex-direction: column;align-items: center;background-color: white;padding-right: 0.2em;padding-left: 0.2em;position: relative;}#sk-container-id-5 div.sk-item {position: relative;z-index: 1;}#sk-container-id-5 div.sk-parallel {display: flex;align-items: stretch;justify-content: center;background-color: white;position: relative;}#sk-container-id-5 div.sk-item::before, #sk-container-id-5 div.sk-parallel-item::before {content: \"\";position: absolute;border-left: 1px solid gray;box-sizing: border-box;top: 0;bottom: 0;left: 50%;z-index: -1;}#sk-container-id-5 div.sk-parallel-item {display: flex;flex-direction: column;z-index: 1;position: relative;background-color: white;}#sk-container-id-5 div.sk-parallel-item:first-child::after {align-self: flex-end;width: 50%;}#sk-container-id-5 div.sk-parallel-item:last-child::after {align-self: flex-start;width: 50%;}#sk-container-id-5 div.sk-parallel-item:only-child::after {width: 0;}#sk-container-id-5 div.sk-dashed-wrapped {border: 1px dashed gray;margin: 0 0.4em 0.5em 0.4em;box-sizing: border-box;padding-bottom: 0.4em;background-color: white;}#sk-container-id-5 div.sk-label label {font-family: monospace;font-weight: bold;display: inline-block;line-height: 1.2em;}#sk-container-id-5 div.sk-label-container {text-align: center;}#sk-container-id-5 div.sk-container {/* jupyter's `normalize.less` sets `[hidden] { display: none; }` but bootstrap.min.css set `[hidden] { display: none !important; }` so we also need the `!important` here to be able to override the default hidden behavior on the sphinx rendered scikit-learn.org. See: https://github.com/scikit-learn/scikit-learn/issues/21755 */display: inline-block !important;position: relative;}#sk-container-id-5 div.sk-text-repr-fallback {display: none;}</style><div id=\"sk-container-id-5\" class=\"sk-top-container\"><div class=\"sk-text-repr-fallback\"><pre>DecisionTreeClassifier()</pre><b>In a Jupyter environment, please rerun this cell to show the HTML representation or trust the notebook. <br />On GitHub, the HTML representation is unable to render, please try loading this page with nbviewer.org.</b></div><div class=\"sk-container\" hidden><div class=\"sk-item\"><div class=\"sk-estimator sk-toggleable\"><input class=\"sk-toggleable__control sk-hidden--visually\" id=\"sk-estimator-id-5\" type=\"checkbox\" checked><label for=\"sk-estimator-id-5\" class=\"sk-toggleable__label sk-toggleable__label-arrow\">DecisionTreeClassifier</label><div class=\"sk-toggleable__content\"><pre>DecisionTreeClassifier()</pre></div></div></div></div></div>"
      ],
      "text/plain": [
       "DecisionTreeClassifier()"
      ]
     },
     "execution_count": 115,
     "metadata": {},
     "output_type": "execute_result"
    }
   ],
   "source": [
    "decision_tree.fit(train_x1, train_y1)"
   ]
  },
  {
   "cell_type": "code",
   "execution_count": 116,
   "id": "393daeec-bd11-4911-8317-506ede44cf8f",
   "metadata": {
    "tags": []
   },
   "outputs": [],
   "source": [
    "test_x1 = vectorizer.transform(X_test)"
   ]
  },
  {
   "cell_type": "code",
   "execution_count": 117,
   "id": "75a751d8-f52e-4873-9a54-205c66306831",
   "metadata": {
    "tags": []
   },
   "outputs": [],
   "source": [
    "y_pred = decision_tree.predict(test_x1)"
   ]
  },
  {
   "cell_type": "code",
   "execution_count": 118,
   "id": "1af93c6b-44d5-496b-9544-874c9be14076",
   "metadata": {
    "tags": []
   },
   "outputs": [
    {
     "name": "stdout",
     "output_type": "stream",
     "text": [
      "Doğruluk Skoru: 0.5802217036172695\n"
     ]
    }
   ],
   "source": [
    "accuracy = accuracy_score(y_test, y_pred)\n",
    "print(\"Doğruluk Skoru:\", accuracy)"
   ]
  },
  {
   "cell_type": "code",
   "execution_count": 119,
   "id": "e1119aa8-9862-450c-9f80-e5e52ac5ad8e",
   "metadata": {
    "tags": []
   },
   "outputs": [
    {
     "name": "stdout",
     "output_type": "stream",
     "text": [
      "Micro-averaged Hassasiyet (Precision): 0.5802217036172695\n",
      "Macro-averaged Hassasiyet (Precision): 0.5561351747861761\n",
      "Weighted-averaged Hassasiyet (Precision): 0.5818178335817714\n"
     ]
    }
   ],
   "source": [
    "precision_micro = precision_score(y_test, y_pred, average='micro')\n",
    "print(\"Micro-averaged Hassasiyet (Precision):\", precision_micro)\n",
    "precision_macro = precision_score(y_test, y_pred, average='macro')\n",
    "print(\"Macro-averaged Hassasiyet (Precision):\", precision_macro)\n",
    "precision_weighted = precision_score(y_test, y_pred, average='weighted')\n",
    "print(\"Weighted-averaged Hassasiyet (Precision):\", precision_weighted)"
   ]
  },
  {
   "cell_type": "code",
   "execution_count": 120,
   "id": "0f216626-6f92-4e37-8374-728d3d1355a6",
   "metadata": {
    "tags": []
   },
   "outputs": [
    {
     "name": "stdout",
     "output_type": "stream",
     "text": [
      "Micro-averaged Duyarlılık (Recall): 0.5802217036172695\n",
      "Macro-averaged Duyarlılık (Recall): 0.5526316750675725\n",
      "Weighted-averaged Duyarlılık (Recall): 0.5802217036172695\n"
     ]
    }
   ],
   "source": [
    "recall_micro = recall_score(y_test, y_pred, average='micro')\n",
    "print(\"Micro-averaged Duyarlılık (Recall):\", recall_micro)\n",
    "recall_macro = recall_score(y_test, y_pred, average='macro')\n",
    "print(\"Macro-averaged Duyarlılık (Recall):\", recall_macro)\n",
    "recall_weighted = recall_score(y_test, y_pred, average='weighted')\n",
    "print(\"Weighted-averaged Duyarlılık (Recall):\", recall_weighted)"
   ]
  },
  {
   "cell_type": "code",
   "execution_count": 121,
   "id": "13b4b313-8a41-46b9-a73e-028a21adce05",
   "metadata": {
    "tags": []
   },
   "outputs": [
    {
     "name": "stdout",
     "output_type": "stream",
     "text": [
      "Micro-averaged F1 Skoru: 0.5802217036172695\n",
      "Macro-averaged F1 Skoru: 0.5517141894212056\n",
      "Weighted-averaged F1 Skoru: 0.5780265620106879\n"
     ]
    }
   ],
   "source": [
    "f1_micro = f1_score(y_test, y_pred, average='micro')\n",
    "print(\"Micro-averaged F1 Skoru:\", f1_micro)\n",
    "f1_macro = f1_score(y_test, y_pred, average='macro')\n",
    "print(\"Macro-averaged F1 Skoru:\", f1_macro)\n",
    "f1_weighted = f1_score(y_test, y_pred, average='weighted')\n",
    "print(\"Weighted-averaged F1 Skoru:\", f1_weighted)"
   ]
  },
  {
   "cell_type": "code",
   "execution_count": 122,
   "id": "717b52c1-2beb-4cb2-a36d-4b1aecbd8781",
   "metadata": {
    "tags": []
   },
   "outputs": [
    {
     "name": "stdout",
     "output_type": "stream",
     "text": [
      "Kappa İstatistiği: 0.3578968441884942\n"
     ]
    }
   ],
   "source": [
    "kappa = cohen_kappa_score(y_test, y_pred)\n",
    "print(\"Kappa İstatistiği:\", kappa)"
   ]
  },
  {
   "cell_type": "code",
   "execution_count": 123,
   "id": "e0af4e5d-62c9-49b1-8fcb-976233a0f390",
   "metadata": {
    "tags": []
   },
   "outputs": [
    {
     "name": "stdout",
     "output_type": "stream",
     "text": [
      "Karışıklık Matrisi:\n",
      "[[930 118 248]\n",
      " [247 770 270]\n",
      " [339 217 289]]\n"
     ]
    }
   ],
   "source": [
    "cm = confusion_matrix(y_test, y_pred)\n",
    "print(\"Karışıklık Matrisi:\")\n",
    "print(cm)"
   ]
  },
  {
   "cell_type": "code",
   "execution_count": 124,
   "id": "5df0adac-f025-4b5a-8a0b-06611b692ba2",
   "metadata": {
    "tags": []
   },
   "outputs": [
    {
     "data": {
      "image/png": "[encoded data removed]",
      "text/plain": [
       "<Figure size 640x480 with 2 Axes>"
      ]
     },
     "metadata": {},
     "output_type": "display_data"
    }
   ],
   "source": [
    "sns.heatmap(cm, annot=True, fmt='d', cmap='Blues')\n",
    "plt.xlabel('Tahmin Edilen Etiketler')\n",
    "plt.ylabel('Gerçek Etiketler')\n",
    "plt.title('Confusion Matrix')\n",
    "plt.show()"
   ]
  },
  {
   "cell_type": "markdown",
   "id": "d7ce7079-2cfb-4f0f-89ff-336396c54fc5",
   "metadata": {},
   "source": [
    "### Support Vector Machines - SVM"
   ]
  },
  {
   "cell_type": "code",
   "execution_count": 125,
   "id": "cc317fce-eb4d-453c-a79b-d634b7274fa3",
   "metadata": {
    "tags": []
   },
   "outputs": [],
   "source": [
    "from sklearn.svm import SVC"
   ]
  },
  {
   "cell_type": "code",
   "execution_count": 126,
   "id": "4264f1b0-705e-40c8-9050-f7a0fc6c73dd",
   "metadata": {
    "tags": []
   },
   "outputs": [],
   "source": [
    "svm_classifier = SVC()"
   ]
  },
  {
   "cell_type": "code",
   "execution_count": 127,
   "id": "9c9c4a32-6a04-40dc-aa49-1def99f7045c",
   "metadata": {
    "tags": []
   },
   "outputs": [
    {
     "data": {
      "text/html": [
       "<style>#sk-container-id-6 {color: black;}#sk-container-id-6 pre{padding: 0;}#sk-container-id-6 div.sk-toggleable {background-color: white;}#sk-container-id-6 label.sk-toggleable__label {cursor: pointer;display: block;width: 100%;margin-bottom: 0;padding: 0.3em;box-sizing: border-box;text-align: center;}#sk-container-id-6 label.sk-toggleable__label-arrow:before {content: \"▸\";float: left;margin-right: 0.25em;color: #696969;}#sk-container-id-6 label.sk-toggleable__label-arrow:hover:before {color: black;}#sk-container-id-6 div.sk-estimator:hover label.sk-toggleable__label-arrow:before {color: black;}#sk-container-id-6 div.sk-toggleable__content {max-height: 0;max-width: 0;overflow: hidden;text-align: left;background-color: #f0f8ff;}#sk-container-id-6 div.sk-toggleable__content pre {margin: 0.2em;color: black;border-radius: 0.25em;background-color: #f0f8ff;}#sk-container-id-6 input.sk-toggleable__control:checked~div.sk-toggleable__content {max-height: 200px;max-width: 100%;overflow: auto;}#sk-container-id-6 input.sk-toggleable__control:checked~label.sk-toggleable__label-arrow:before {content: \"▾\";}#sk-container-id-6 div.sk-estimator input.sk-toggleable__control:checked~label.sk-toggleable__label {background-color: #d4ebff;}#sk-container-id-6 div.sk-label input.sk-toggleable__control:checked~label.sk-toggleable__label {background-color: #d4ebff;}#sk-container-id-6 input.sk-hidden--visually {border: 0;clip: rect(1px 1px 1px 1px);clip: rect(1px, 1px, 1px, 1px);height: 1px;margin: -1px;overflow: hidden;padding: 0;position: absolute;width: 1px;}#sk-container-id-6 div.sk-estimator {font-family: monospace;background-color: #f0f8ff;border: 1px dotted black;border-radius: 0.25em;box-sizing: border-box;margin-bottom: 0.5em;}#sk-container-id-6 div.sk-estimator:hover {background-color: #d4ebff;}#sk-container-id-6 div.sk-parallel-item::after {content: \"\";width: 100%;border-bottom: 1px solid gray;flex-grow: 1;}#sk-container-id-6 div.sk-label:hover label.sk-toggleable__label {background-color: #d4ebff;}#sk-container-id-6 div.sk-serial::before {content: \"\";position: absolute;border-left: 1px solid gray;box-sizing: border-box;top: 0;bottom: 0;left: 50%;z-index: 0;}#sk-container-id-6 div.sk-serial {display: flex;flex-direction: column;align-items: center;background-color: white;padding-right: 0.2em;padding-left: 0.2em;position: relative;}#sk-container-id-6 div.sk-item {position: relative;z-index: 1;}#sk-container-id-6 div.sk-parallel {display: flex;align-items: stretch;justify-content: center;background-color: white;position: relative;}#sk-container-id-6 div.sk-item::before, #sk-container-id-6 div.sk-parallel-item::before {content: \"\";position: absolute;border-left: 1px solid gray;box-sizing: border-box;top: 0;bottom: 0;left: 50%;z-index: -1;}#sk-container-id-6 div.sk-parallel-item {display: flex;flex-direction: column;z-index: 1;position: relative;background-color: white;}#sk-container-id-6 div.sk-parallel-item:first-child::after {align-self: flex-end;width: 50%;}#sk-container-id-6 div.sk-parallel-item:last-child::after {align-self: flex-start;width: 50%;}#sk-container-id-6 div.sk-parallel-item:only-child::after {width: 0;}#sk-container-id-6 div.sk-dashed-wrapped {border: 1px dashed gray;margin: 0 0.4em 0.5em 0.4em;box-sizing: border-box;padding-bottom: 0.4em;background-color: white;}#sk-container-id-6 div.sk-label label {font-family: monospace;font-weight: bold;display: inline-block;line-height: 1.2em;}#sk-container-id-6 div.sk-label-container {text-align: center;}#sk-container-id-6 div.sk-container {/* jupyter's `normalize.less` sets `[hidden] { display: none; }` but bootstrap.min.css set `[hidden] { display: none !important; }` so we also need the `!important` here to be able to override the default hidden behavior on the sphinx rendered scikit-learn.org. See: https://github.com/scikit-learn/scikit-learn/issues/21755 */display: inline-block !important;position: relative;}#sk-container-id-6 div.sk-text-repr-fallback {display: none;}</style><div id=\"sk-container-id-6\" class=\"sk-top-container\"><div class=\"sk-text-repr-fallback\"><pre>SVC()</pre><b>In a Jupyter environment, please rerun this cell to show the HTML representation or trust the notebook. <br />On GitHub, the HTML representation is unable to render, please try loading this page with nbviewer.org.</b></div><div class=\"sk-container\" hidden><div class=\"sk-item\"><div class=\"sk-estimator sk-toggleable\"><input class=\"sk-toggleable__control sk-hidden--visually\" id=\"sk-estimator-id-6\" type=\"checkbox\" checked><label for=\"sk-estimator-id-6\" class=\"sk-toggleable__label sk-toggleable__label-arrow\">SVC</label><div class=\"sk-toggleable__content\"><pre>SVC()</pre></div></div></div></div></div>"
      ],
      "text/plain": [
       "SVC()"
      ]
     },
     "execution_count": 127,
     "metadata": {},
     "output_type": "execute_result"
    }
   ],
   "source": [
    "svm_classifier.fit(train_x1, train_y1)"
   ]
  },
  {
   "cell_type": "code",
   "execution_count": 128,
   "id": "fd4b7fa7-0e5c-4b4b-95df-31b58606d4bb",
   "metadata": {
    "tags": []
   },
   "outputs": [],
   "source": [
    "test_x1 = vectorizer.transform(X_test).toarray()"
   ]
  },
  {
   "cell_type": "code",
   "execution_count": 129,
   "id": "c2a71e7e-ad0e-4566-9753-259a0f9a3d38",
   "metadata": {
    "tags": []
   },
   "outputs": [],
   "source": [
    "y_pred = svm_classifier.predict(test_x1)"
   ]
  },
  {
   "cell_type": "code",
   "execution_count": 130,
   "id": "3b285f43-908f-47ab-862f-6064a0b14bd8",
   "metadata": {
    "tags": []
   },
   "outputs": [
    {
     "name": "stdout",
     "output_type": "stream",
     "text": [
      "Doğruluk Skoru: 0.6887397899649942\n"
     ]
    }
   ],
   "source": [
    "accuracy = accuracy_score(y_test, y_pred)\n",
    "print(\"Doğruluk Skoru:\", accuracy)"
   ]
  },
  {
   "cell_type": "code",
   "execution_count": 131,
   "id": "ed2b313e-b4a4-4284-8ab1-d4fcd5d8f3fb",
   "metadata": {
    "tags": []
   },
   "outputs": [
    {
     "name": "stdout",
     "output_type": "stream",
     "text": [
      "Micro-averaged Hassasiyet (Precision): 0.6887397899649942\n",
      "Macro-averaged Hassasiyet (Precision): 0.6578728420635512\n",
      "Weighted-averaged Hassasiyet (Precision): 0.6739588599121356\n"
     ]
    }
   ],
   "source": [
    "precision_micro = precision_score(y_test, y_pred, average='micro')\n",
    "print(\"Micro-averaged Hassasiyet (Precision):\", precision_micro)\n",
    "precision_macro = precision_score(y_test, y_pred, average='macro')\n",
    "print(\"Macro-averaged Hassasiyet (Precision):\", precision_macro)\n",
    "precision_weighted = precision_score(y_test, y_pred, average='weighted')\n",
    "print(\"Weighted-averaged Hassasiyet (Precision):\", precision_weighted)"
   ]
  },
  {
   "cell_type": "code",
   "execution_count": 132,
   "id": "5aed585f-9f1c-4dd3-87e7-bb8df840b4aa",
   "metadata": {
    "tags": []
   },
   "outputs": [
    {
     "name": "stdout",
     "output_type": "stream",
     "text": [
      "Micro-averaged Duyarlılık (Recall): 0.6887397899649942\n",
      "Macro-averaged Duyarlılık (Recall): 0.6466358744136522\n",
      "Weighted-averaged Duyarlılık (Recall): 0.6887397899649942\n"
     ]
    }
   ],
   "source": [
    "recall_micro = recall_score(y_test, y_pred, average='micro')\n",
    "print(\"Micro-averaged Duyarlılık (Recall):\", recall_micro)\n",
    "recall_macro = recall_score(y_test, y_pred, average='macro')\n",
    "print(\"Macro-averaged Duyarlılık (Recall):\", recall_macro)\n",
    "recall_weighted = recall_score(y_test, y_pred, average='weighted')\n",
    "print(\"Weighted-averaged Duyarlılık (Recall):\", recall_weighted)"
   ]
  },
  {
   "cell_type": "code",
   "execution_count": 133,
   "id": "62557eba-9092-4534-ab11-e7ba66ff7495",
   "metadata": {
    "tags": []
   },
   "outputs": [
    {
     "name": "stdout",
     "output_type": "stream",
     "text": [
      "Micro-averaged F1 Skoru: 0.6887397899649942\n",
      "Macro-averaged F1 Skoru: 0.6409131862600123\n",
      "Weighted-averaged F1 Skoru: 0.6719574404932986\n"
     ]
    }
   ],
   "source": [
    "f1_micro = f1_score(y_test, y_pred, average='micro')\n",
    "print(\"Micro-averaged F1 Skoru:\", f1_micro)\n",
    "f1_macro = f1_score(y_test, y_pred, average='macro')\n",
    "print(\"Macro-averaged F1 Skoru:\", f1_macro)\n",
    "f1_weighted = f1_score(y_test, y_pred, average='weighted')\n",
    "print(\"Weighted-averaged F1 Skoru:\", f1_weighted)"
   ]
  },
  {
   "cell_type": "code",
   "execution_count": 134,
   "id": "23036e2e-4b7f-4bc8-ad29-93ce17f34da8",
   "metadata": {
    "tags": []
   },
   "outputs": [
    {
     "name": "stdout",
     "output_type": "stream",
     "text": [
      "Kappa İstatistiği: 0.5157109960554358\n"
     ]
    }
   ],
   "source": [
    "kappa = cohen_kappa_score(y_test, y_pred)\n",
    "print(\"Kappa İstatistiği:\", kappa)"
   ]
  },
  {
   "cell_type": "code",
   "execution_count": 135,
   "id": "973446f7-eeb1-4477-9951-60545927498d",
   "metadata": {
    "tags": []
   },
   "outputs": [
    {
     "name": "stdout",
     "output_type": "stream",
     "text": [
      "Karışıklık Matrisi:\n",
      "[[1028  169   99]\n",
      " [  89 1060  138]\n",
      " [ 227  345  273]]\n"
     ]
    }
   ],
   "source": [
    "cm = confusion_matrix(y_test, y_pred)\n",
    "print(\"Karışıklık Matrisi:\")\n",
    "print(cm)"
   ]
  },
  {
   "cell_type": "code",
   "execution_count": 136,
   "id": "b23a5524-062d-4f21-87d7-b182ca4dc5f8",
   "metadata": {
    "tags": []
   },
   "outputs": [
    {
     "data": {
      "image/png": "[encoded data removed]",
      "text/plain": [
       "<Figure size 640x480 with 2 Axes>"
      ]
     },
     "metadata": {},
     "output_type": "display_data"
    }
   ],
   "source": [
    "sns.heatmap(cm, annot=True, fmt='d', cmap='Blues')\n",
    "plt.xlabel('Tahmin Edilen Etiketler')\n",
    "plt.ylabel('Gerçek Etiketler')\n",
    "plt.title('Confusion Matrix')\n",
    "plt.show()"
   ]
  },
  {
   "cell_type": "markdown",
   "id": "fba59a7d-77d0-470d-8482-ca49d02adb9c",
   "metadata": {},
   "source": [
    "### K-Nearest Neighbors - KNN"
   ]
  },
  {
   "cell_type": "code",
   "execution_count": 137,
   "id": "72f8cd1f-f118-4749-abe6-66d18f755b52",
   "metadata": {
    "tags": []
   },
   "outputs": [],
   "source": [
    "from sklearn.neighbors import KNeighborsClassifier"
   ]
  },
  {
   "cell_type": "code",
   "execution_count": 138,
   "id": "3ea706c7-4f21-4761-ba88-a638595eb4b5",
   "metadata": {
    "tags": []
   },
   "outputs": [],
   "source": [
    "knn_classifier = KNeighborsClassifier(n_neighbors=5)"
   ]
  },
  {
   "cell_type": "code",
   "execution_count": 139,
   "id": "7c3d8acc-569b-47e2-99c1-85fa5af15f24",
   "metadata": {
    "tags": []
   },
   "outputs": [
    {
     "data": {
      "text/html": [
       "<style>#sk-container-id-7 {color: black;}#sk-container-id-7 pre{padding: 0;}#sk-container-id-7 div.sk-toggleable {background-color: white;}#sk-container-id-7 label.sk-toggleable__label {cursor: pointer;display: block;width: 100%;margin-bottom: 0;padding: 0.3em;box-sizing: border-box;text-align: center;}#sk-container-id-7 label.sk-toggleable__label-arrow:before {content: \"▸\";float: left;margin-right: 0.25em;color: #696969;}#sk-container-id-7 label.sk-toggleable__label-arrow:hover:before {color: black;}#sk-container-id-7 div.sk-estimator:hover label.sk-toggleable__label-arrow:before {color: black;}#sk-container-id-7 div.sk-toggleable__content {max-height: 0;max-width: 0;overflow: hidden;text-align: left;background-color: #f0f8ff;}#sk-container-id-7 div.sk-toggleable__content pre {margin: 0.2em;color: black;border-radius: 0.25em;background-color: #f0f8ff;}#sk-container-id-7 input.sk-toggleable__control:checked~div.sk-toggleable__content {max-height: 200px;max-width: 100%;overflow: auto;}#sk-container-id-7 input.sk-toggleable__control:checked~label.sk-toggleable__label-arrow:before {content: \"▾\";}#sk-container-id-7 div.sk-estimator input.sk-toggleable__control:checked~label.sk-toggleable__label {background-color: #d4ebff;}#sk-container-id-7 div.sk-label input.sk-toggleable__control:checked~label.sk-toggleable__label {background-color: #d4ebff;}#sk-container-id-7 input.sk-hidden--visually {border: 0;clip: rect(1px 1px 1px 1px);clip: rect(1px, 1px, 1px, 1px);height: 1px;margin: -1px;overflow: hidden;padding: 0;position: absolute;width: 1px;}#sk-container-id-7 div.sk-estimator {font-family: monospace;background-color: #f0f8ff;border: 1px dotted black;border-radius: 0.25em;box-sizing: border-box;margin-bottom: 0.5em;}#sk-container-id-7 div.sk-estimator:hover {background-color: #d4ebff;}#sk-container-id-7 div.sk-parallel-item::after {content: \"\";width: 100%;border-bottom: 1px solid gray;flex-grow: 1;}#sk-container-id-7 div.sk-label:hover label.sk-toggleable__label {background-color: #d4ebff;}#sk-container-id-7 div.sk-serial::before {content: \"\";position: absolute;border-left: 1px solid gray;box-sizing: border-box;top: 0;bottom: 0;left: 50%;z-index: 0;}#sk-container-id-7 div.sk-serial {display: flex;flex-direction: column;align-items: center;background-color: white;padding-right: 0.2em;padding-left: 0.2em;position: relative;}#sk-container-id-7 div.sk-item {position: relative;z-index: 1;}#sk-container-id-7 div.sk-parallel {display: flex;align-items: stretch;justify-content: center;background-color: white;position: relative;}#sk-container-id-7 div.sk-item::before, #sk-container-id-7 div.sk-parallel-item::before {content: \"\";position: absolute;border-left: 1px solid gray;box-sizing: border-box;top: 0;bottom: 0;left: 50%;z-index: -1;}#sk-container-id-7 div.sk-parallel-item {display: flex;flex-direction: column;z-index: 1;position: relative;background-color: white;}#sk-container-id-7 div.sk-parallel-item:first-child::after {align-self: flex-end;width: 50%;}#sk-container-id-7 div.sk-parallel-item:last-child::after {align-self: flex-start;width: 50%;}#sk-container-id-7 div.sk-parallel-item:only-child::after {width: 0;}#sk-container-id-7 div.sk-dashed-wrapped {border: 1px dashed gray;margin: 0 0.4em 0.5em 0.4em;box-sizing: border-box;padding-bottom: 0.4em;background-color: white;}#sk-container-id-7 div.sk-label label {font-family: monospace;font-weight: bold;display: inline-block;line-height: 1.2em;}#sk-container-id-7 div.sk-label-container {text-align: center;}#sk-container-id-7 div.sk-container {/* jupyter's `normalize.less` sets `[hidden] { display: none; }` but bootstrap.min.css set `[hidden] { display: none !important; }` so we also need the `!important` here to be able to override the default hidden behavior on the sphinx rendered scikit-learn.org. See: https://github.com/scikit-learn/scikit-learn/issues/21755 */display: inline-block !important;position: relative;}#sk-container-id-7 div.sk-text-repr-fallback {display: none;}</style><div id=\"sk-container-id-7\" class=\"sk-top-container\"><div class=\"sk-text-repr-fallback\"><pre>KNeighborsClassifier()</pre><b>In a Jupyter environment, please rerun this cell to show the HTML representation or trust the notebook. <br />On GitHub, the HTML representation is unable to render, please try loading this page with nbviewer.org.</b></div><div class=\"sk-container\" hidden><div class=\"sk-item\"><div class=\"sk-estimator sk-toggleable\"><input class=\"sk-toggleable__control sk-hidden--visually\" id=\"sk-estimator-id-7\" type=\"checkbox\" checked><label for=\"sk-estimator-id-7\" class=\"sk-toggleable__label sk-toggleable__label-arrow\">KNeighborsClassifier</label><div class=\"sk-toggleable__content\"><pre>KNeighborsClassifier()</pre></div></div></div></div></div>"
      ],
      "text/plain": [
       "KNeighborsClassifier()"
      ]
     },
     "execution_count": 139,
     "metadata": {},
     "output_type": "execute_result"
    }
   ],
   "source": [
    "knn_classifier.fit(train_x1, train_y1)"
   ]
  },
  {
   "cell_type": "code",
   "execution_count": 140,
   "id": "4a41b51e-dd34-423c-a163-7ebd4282c5d6",
   "metadata": {
    "tags": []
   },
   "outputs": [],
   "source": [
    "test_x1 = vectorizer.transform(X_test)"
   ]
  },
  {
   "cell_type": "code",
   "execution_count": 141,
   "id": "5a487fd6-14eb-42b7-ab66-1135a5d27d69",
   "metadata": {
    "tags": []
   },
   "outputs": [],
   "source": [
    "y_pred = knn_classifier.predict(test_x1)"
   ]
  },
  {
   "cell_type": "code",
   "execution_count": 142,
   "id": "5af70c33-6154-4ef4-9669-5177e2d46055",
   "metadata": {
    "tags": []
   },
   "outputs": [
    {
     "name": "stdout",
     "output_type": "stream",
     "text": [
      "Doğruluk Skoru: 0.5347141190198367\n"
     ]
    }
   ],
   "source": [
    "accuracy = accuracy_score(y_test, y_pred)\n",
    "print(\"Doğruluk Skoru:\", accuracy)"
   ]
  },
  {
   "cell_type": "code",
   "execution_count": 143,
   "id": "77135fb2-d4c8-4098-a0a8-c4cdbd15054a",
   "metadata": {
    "tags": []
   },
   "outputs": [
    {
     "name": "stdout",
     "output_type": "stream",
     "text": [
      "Micro-averaged Hassasiyet (Precision): 0.5347141190198367\n",
      "Macro-averaged Hassasiyet (Precision): 0.5433936195575123\n",
      "Weighted-averaged Hassasiyet (Precision): 0.5563555871872427\n"
     ]
    }
   ],
   "source": [
    "precision_micro = precision_score(y_test, y_pred, average='micro')\n",
    "print(\"Micro-averaged Hassasiyet (Precision):\", precision_micro)\n",
    "precision_macro = precision_score(y_test, y_pred, average='macro')\n",
    "print(\"Macro-averaged Hassasiyet (Precision):\", precision_macro)\n",
    "precision_weighted = precision_score(y_test, y_pred, average='weighted')\n",
    "print(\"Weighted-averaged Hassasiyet (Precision):\", precision_weighted)"
   ]
  },
  {
   "cell_type": "code",
   "execution_count": 144,
   "id": "ebc2db66-10da-4800-9c43-a03f5ff78bc2",
   "metadata": {
    "tags": []
   },
   "outputs": [
    {
     "name": "stdout",
     "output_type": "stream",
     "text": [
      "Micro-averaged Duyarlılık (Recall): 0.5347141190198367\n",
      "Macro-averaged Duyarlılık (Recall): 0.4901664021322141\n",
      "Weighted-averaged Duyarlılık (Recall): 0.5347141190198367\n"
     ]
    }
   ],
   "source": [
    "recall_micro = recall_score(y_test, y_pred, average='micro')\n",
    "print(\"Micro-averaged Duyarlılık (Recall):\", recall_micro)\n",
    "recall_macro = recall_score(y_test, y_pred, average='macro')\n",
    "print(\"Macro-averaged Duyarlılık (Recall):\", recall_macro)\n",
    "recall_weighted = recall_score(y_test, y_pred, average='weighted')\n",
    "print(\"Weighted-averaged Duyarlılık (Recall):\", recall_weighted)"
   ]
  },
  {
   "cell_type": "code",
   "execution_count": 145,
   "id": "55b2e905-d59f-4e60-ba14-a56713e70a4f",
   "metadata": {
    "tags": []
   },
   "outputs": [
    {
     "name": "stdout",
     "output_type": "stream",
     "text": [
      "Micro-averaged F1 Skoru: 0.5347141190198367\n",
      "Macro-averaged F1 Skoru: 0.46445255121787926\n",
      "Weighted-averaged F1 Skoru: 0.4955159022791967\n"
     ]
    }
   ],
   "source": [
    "f1_micro = f1_score(y_test, y_pred, average='micro')\n",
    "print(\"Micro-averaged F1 Skoru:\", f1_micro)\n",
    "f1_macro = f1_score(y_test, y_pred, average='macro')\n",
    "print(\"Macro-averaged F1 Skoru:\", f1_macro)\n",
    "f1_weighted = f1_score(y_test, y_pred, average='weighted')\n",
    "print(\"Weighted-averaged F1 Skoru:\", f1_weighted)"
   ]
  },
  {
   "cell_type": "code",
   "execution_count": 146,
   "id": "8f7cdd78-bcdd-4fa3-9fe6-900a802951ab",
   "metadata": {
    "tags": []
   },
   "outputs": [
    {
     "name": "stdout",
     "output_type": "stream",
     "text": [
      "Kappa İstatistiği: 0.2658302770118883\n"
     ]
    }
   ],
   "source": [
    "kappa = cohen_kappa_score(y_test, y_pred)\n",
    "print(\"Kappa İstatistiği:\", kappa)"
   ]
  },
  {
   "cell_type": "code",
   "execution_count": 147,
   "id": "b8813065-84c1-47d9-9560-baa08cb06916",
   "metadata": {
    "tags": []
   },
   "outputs": [
    {
     "name": "stdout",
     "output_type": "stream",
     "text": [
      "Karışıklık Matrisi:\n",
      "[[1144   80   72]\n",
      " [ 636  560   91]\n",
      " [ 554  162  129]]\n"
     ]
    }
   ],
   "source": [
    "cm = confusion_matrix(y_test, y_pred)\n",
    "print(\"Karışıklık Matrisi:\")\n",
    "print(cm)"
   ]
  },
  {
   "cell_type": "code",
   "execution_count": 148,
   "id": "8c66a541-35df-43b8-9d98-d06904acf6c0",
   "metadata": {
    "tags": []
   },
   "outputs": [
    {
     "data": {
      "image/png": "[encoded data removed]",
      "text/plain": [
       "<Figure size 640x480 with 2 Axes>"
      ]
     },
     "metadata": {},
     "output_type": "display_data"
    }
   ],
   "source": [
    "sns.heatmap(cm, annot=True, fmt='d', cmap='Blues')\n",
    "plt.xlabel('Tahmin Edilen Etiketler')\n",
    "plt.ylabel('Gerçek Etiketler')\n",
    "plt.title('Confusion Matrix')\n",
    "plt.show()"
   ]
  },
  {
   "cell_type": "markdown",
   "id": "0129c0aa-9349-4ca9-8a0f-1b948c585059",
   "metadata": {},
   "source": [
    "### Random Forrest Classifier"
   ]
  },
  {
   "cell_type": "code",
   "execution_count": 149,
   "id": "25b31270-90a3-4bca-91ba-b3c0ff5a8095",
   "metadata": {
    "tags": []
   },
   "outputs": [],
   "source": [
    "from sklearn.ensemble import RandomForestClassifier"
   ]
  },
  {
   "cell_type": "code",
   "execution_count": 150,
   "id": "330b769d-b4f4-4e9e-8023-aeebd2c65336",
   "metadata": {
    "tags": []
   },
   "outputs": [],
   "source": [
    "random_forest = RandomForestClassifier(n_estimators=100)"
   ]
  },
  {
   "cell_type": "code",
   "execution_count": 151,
   "id": "c37dcee6-5d29-4e9c-b714-1ece5a625cc3",
   "metadata": {
    "tags": []
   },
   "outputs": [
    {
     "data": {
      "text/html": [
       "<style>#sk-container-id-8 {color: black;}#sk-container-id-8 pre{padding: 0;}#sk-container-id-8 div.sk-toggleable {background-color: white;}#sk-container-id-8 label.sk-toggleable__label {cursor: pointer;display: block;width: 100%;margin-bottom: 0;padding: 0.3em;box-sizing: border-box;text-align: center;}#sk-container-id-8 label.sk-toggleable__label-arrow:before {content: \"▸\";float: left;margin-right: 0.25em;color: #696969;}#sk-container-id-8 label.sk-toggleable__label-arrow:hover:before {color: black;}#sk-container-id-8 div.sk-estimator:hover label.sk-toggleable__label-arrow:before {color: black;}#sk-container-id-8 div.sk-toggleable__content {max-height: 0;max-width: 0;overflow: hidden;text-align: left;background-color: #f0f8ff;}#sk-container-id-8 div.sk-toggleable__content pre {margin: 0.2em;color: black;border-radius: 0.25em;background-color: #f0f8ff;}#sk-container-id-8 input.sk-toggleable__control:checked~div.sk-toggleable__content {max-height: 200px;max-width: 100%;overflow: auto;}#sk-container-id-8 input.sk-toggleable__control:checked~label.sk-toggleable__label-arrow:before {content: \"▾\";}#sk-container-id-8 div.sk-estimator input.sk-toggleable__control:checked~label.sk-toggleable__label {background-color: #d4ebff;}#sk-container-id-8 div.sk-label input.sk-toggleable__control:checked~label.sk-toggleable__label {background-color: #d4ebff;}#sk-container-id-8 input.sk-hidden--visually {border: 0;clip: rect(1px 1px 1px 1px);clip: rect(1px, 1px, 1px, 1px);height: 1px;margin: -1px;overflow: hidden;padding: 0;position: absolute;width: 1px;}#sk-container-id-8 div.sk-estimator {font-family: monospace;background-color: #f0f8ff;border: 1px dotted black;border-radius: 0.25em;box-sizing: border-box;margin-bottom: 0.5em;}#sk-container-id-8 div.sk-estimator:hover {background-color: #d4ebff;}#sk-container-id-8 div.sk-parallel-item::after {content: \"\";width: 100%;border-bottom: 1px solid gray;flex-grow: 1;}#sk-container-id-8 div.sk-label:hover label.sk-toggleable__label {background-color: #d4ebff;}#sk-container-id-8 div.sk-serial::before {content: \"\";position: absolute;border-left: 1px solid gray;box-sizing: border-box;top: 0;bottom: 0;left: 50%;z-index: 0;}#sk-container-id-8 div.sk-serial {display: flex;flex-direction: column;align-items: center;background-color: white;padding-right: 0.2em;padding-left: 0.2em;position: relative;}#sk-container-id-8 div.sk-item {position: relative;z-index: 1;}#sk-container-id-8 div.sk-parallel {display: flex;align-items: stretch;justify-content: center;background-color: white;position: relative;}#sk-container-id-8 div.sk-item::before, #sk-container-id-8 div.sk-parallel-item::before {content: \"\";position: absolute;border-left: 1px solid gray;box-sizing: border-box;top: 0;bottom: 0;left: 50%;z-index: -1;}#sk-container-id-8 div.sk-parallel-item {display: flex;flex-direction: column;z-index: 1;position: relative;background-color: white;}#sk-container-id-8 div.sk-parallel-item:first-child::after {align-self: flex-end;width: 50%;}#sk-container-id-8 div.sk-parallel-item:last-child::after {align-self: flex-start;width: 50%;}#sk-container-id-8 div.sk-parallel-item:only-child::after {width: 0;}#sk-container-id-8 div.sk-dashed-wrapped {border: 1px dashed gray;margin: 0 0.4em 0.5em 0.4em;box-sizing: border-box;padding-bottom: 0.4em;background-color: white;}#sk-container-id-8 div.sk-label label {font-family: monospace;font-weight: bold;display: inline-block;line-height: 1.2em;}#sk-container-id-8 div.sk-label-container {text-align: center;}#sk-container-id-8 div.sk-container {/* jupyter's `normalize.less` sets `[hidden] { display: none; }` but bootstrap.min.css set `[hidden] { display: none !important; }` so we also need the `!important` here to be able to override the default hidden behavior on the sphinx rendered scikit-learn.org. See: https://github.com/scikit-learn/scikit-learn/issues/21755 */display: inline-block !important;position: relative;}#sk-container-id-8 div.sk-text-repr-fallback {display: none;}</style><div id=\"sk-container-id-8\" class=\"sk-top-container\"><div class=\"sk-text-repr-fallback\"><pre>RandomForestClassifier()</pre><b>In a Jupyter environment, please rerun this cell to show the HTML representation or trust the notebook. <br />On GitHub, the HTML representation is unable to render, please try loading this page with nbviewer.org.</b></div><div class=\"sk-container\" hidden><div class=\"sk-item\"><div class=\"sk-estimator sk-toggleable\"><input class=\"sk-toggleable__control sk-hidden--visually\" id=\"sk-estimator-id-8\" type=\"checkbox\" checked><label for=\"sk-estimator-id-8\" class=\"sk-toggleable__label sk-toggleable__label-arrow\">RandomForestClassifier</label><div class=\"sk-toggleable__content\"><pre>RandomForestClassifier()</pre></div></div></div></div></div>"
      ],
      "text/plain": [
       "RandomForestClassifier()"
      ]
     },
     "execution_count": 151,
     "metadata": {},
     "output_type": "execute_result"
    }
   ],
   "source": [
    "random_forest.fit(train_x1, train_y1)"
   ]
  },
  {
   "cell_type": "code",
   "execution_count": 152,
   "id": "973f7149-10a0-49f2-bf5b-ad51623d04e7",
   "metadata": {
    "tags": []
   },
   "outputs": [],
   "source": [
    "test_x1 = vectorizer.transform(X_test)"
   ]
  },
  {
   "cell_type": "code",
   "execution_count": 153,
   "id": "2784d846-3995-4095-89eb-246259629ab1",
   "metadata": {
    "tags": []
   },
   "outputs": [],
   "source": [
    "y_pred = random_forest.predict(test_x1)"
   ]
  },
  {
   "cell_type": "code",
   "execution_count": 154,
   "id": "ad759c8a-9521-469a-96d9-a07ac8b8ccf1",
   "metadata": {
    "tags": []
   },
   "outputs": [
    {
     "name": "stdout",
     "output_type": "stream",
     "text": [
      "Rastgele Orman Doğruluk Skoru: 0.6738623103850642\n"
     ]
    }
   ],
   "source": [
    "accuracy = accuracy_score(y_test, y_pred)\n",
    "print(\"Rastgele Orman Doğruluk Skoru:\", accuracy)"
   ]
  },
  {
   "cell_type": "code",
   "execution_count": 155,
   "id": "47be0c11-b073-4a4e-893c-9229e1cd9043",
   "metadata": {
    "tags": []
   },
   "outputs": [
    {
     "name": "stdout",
     "output_type": "stream",
     "text": [
      "Micro-averaged Hassasiyet (Precision): 0.6738623103850642\n",
      "Macro-averaged Hassasiyet (Precision): 0.6333534839935663\n",
      "Weighted-averaged Hassasiyet (Precision): 0.6520465382362614\n"
     ]
    }
   ],
   "source": [
    "precision_micro = precision_score(y_test, y_pred, average='micro')\n",
    "print(\"Micro-averaged Hassasiyet (Precision):\", precision_micro)\n",
    "precision_macro = precision_score(y_test, y_pred, average='macro')\n",
    "print(\"Macro-averaged Hassasiyet (Precision):\", precision_macro)\n",
    "precision_weighted = precision_score(y_test, y_pred, average='weighted')\n",
    "print(\"Weighted-averaged Hassasiyet (Precision):\", precision_weighted)"
   ]
  },
  {
   "cell_type": "code",
   "execution_count": 156,
   "id": "7b214baf-e305-450e-a17a-7017a5dcb2de",
   "metadata": {
    "tags": []
   },
   "outputs": [
    {
     "name": "stdout",
     "output_type": "stream",
     "text": [
      "Micro-averaged Duyarlılık (Recall): 0.6738623103850642\n",
      "Macro-averaged Duyarlılık (Recall): 0.6274700489444079\n",
      "Weighted-averaged Duyarlılık (Recall): 0.6738623103850642\n"
     ]
    }
   ],
   "source": [
    "recall_micro = recall_score(y_test, y_pred, average='micro')\n",
    "print(\"Micro-averaged Duyarlılık (Recall):\", recall_micro)\n",
    "recall_macro = recall_score(y_test, y_pred, average='macro')\n",
    "print(\"Macro-averaged Duyarlılık (Recall):\", recall_macro)\n",
    "recall_weighted = recall_score(y_test, y_pred, average='weighted')\n",
    "print(\"Weighted-averaged Duyarlılık (Recall):\", recall_weighted)"
   ]
  },
  {
   "cell_type": "code",
   "execution_count": 157,
   "id": "3774e1a0-5506-4c6e-a976-39fa9c9c9e39",
   "metadata": {
    "tags": []
   },
   "outputs": [
    {
     "name": "stdout",
     "output_type": "stream",
     "text": [
      "Micro-averaged F1 Skoru: 0.6738623103850642\n",
      "Macro-averaged F1 Skoru: 0.6169125544947947\n",
      "Weighted-averaged F1 Skoru: 0.6517186035859076\n"
     ]
    }
   ],
   "source": [
    "f1_micro = f1_score(y_test, y_pred, average='micro')\n",
    "print(\"Micro-averaged F1 Skoru:\", f1_micro)\n",
    "f1_macro = f1_score(y_test, y_pred, average='macro')\n",
    "print(\"Macro-averaged F1 Skoru:\", f1_macro)\n",
    "f1_weighted = f1_score(y_test, y_pred, average='weighted')\n",
    "print(\"Weighted-averaged F1 Skoru:\", f1_weighted)"
   ]
  },
  {
   "cell_type": "code",
   "execution_count": 158,
   "id": "63e3e3d8-d881-46c6-a226-c0fd57e72b1b",
   "metadata": {
    "tags": []
   },
   "outputs": [
    {
     "name": "stdout",
     "output_type": "stream",
     "text": [
      "Kappa İstatistiği: 0.4912078282091079\n"
     ]
    }
   ],
   "source": [
    "kappa = cohen_kappa_score(y_test, y_pred)\n",
    "print(\"Kappa İstatistiği:\", kappa)"
   ]
  },
  {
   "cell_type": "code",
   "execution_count": 159,
   "id": "a012e530-3934-4fe9-8a2f-d3d60b8089e0",
   "metadata": {
    "tags": []
   },
   "outputs": [
    {
     "name": "stdout",
     "output_type": "stream",
     "text": [
      "Rastgele Orman Karışıklık Matrisi:\n",
      "[[1101  100   95]\n",
      " [ 163  979  145]\n",
      " [ 351  264  230]]\n"
     ]
    }
   ],
   "source": [
    "cm = confusion_matrix(y_test, y_pred)\n",
    "print(\"Rastgele Orman Karışıklık Matrisi:\")\n",
    "print(cm)"
   ]
  },
  {
   "cell_type": "code",
   "execution_count": 160,
   "id": "8a90e3b6-2af1-4d9f-bb62-3d79392ec461",
   "metadata": {
    "tags": []
   },
   "outputs": [
    {
     "data": {
      "image/png": "[encoded data removed]",
      "text/plain": [
       "<Figure size 640x480 with 2 Axes>"
      ]
     },
     "metadata": {},
     "output_type": "display_data"
    }
   ],
   "source": [
    "sns.heatmap(cm, annot=True, fmt='d', cmap='Blues')\n",
    "plt.xlabel('Tahmin Edilen Etiketler')\n",
    "plt.ylabel('Gerçek Etiketler')\n",
    "plt.title('Confusion Matrix')\n",
    "plt.show()"
   ]
  }
 ],
 "metadata": {
  "kernelspec": {
   "display_name": "Python 3 (ipykernel)",
   "language": "python",
   "name": "python3"
  },
  "language_info": {
   "codemirror_mode": {
    "name": "ipython",
    "version": 3
   },
   "file_extension": ".py",
   "mimetype": "text/x-python",
   "name": "python",
   "nbconvert_exporter": "python",
   "pygments_lexer": "ipython3",
   "version": "3.10.9"
  }
 },
 "nbformat": 4,
 "nbformat_minor": 5
}
